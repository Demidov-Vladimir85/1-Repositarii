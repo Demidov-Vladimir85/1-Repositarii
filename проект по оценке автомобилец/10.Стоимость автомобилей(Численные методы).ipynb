{
 "cells": [
  {
   "cell_type": "markdown",
   "metadata": {},
   "source": [
    "# Определение стоимости автомобилей"
   ]
  },
  {
   "cell_type": "markdown",
   "metadata": {},
   "source": [
    "Сервис по продаже автомобилей с пробегом «Не бит, не крашен» разрабатывает приложение для привлечения новых клиентов. В нём можно быстро узнать рыночную стоимость своего автомобиля. В вашем распоряжении исторические данные: технические характеристики, комплектации и цены автомобилей. Нужно построить модель для определения стоимости. "
   ]
  },
  {
   "cell_type": "markdown",
   "metadata": {},
   "source": [
    "## Подготовка данных"
   ]
  },
  {
   "cell_type": "code",
   "execution_count": 1,
   "metadata": {},
   "outputs": [],
   "source": [
    "import pandas as pd\n",
    "import numpy as np\n",
    "from IPython.display import display\n",
    "from sklearn.metrics import r2_score\n",
    "from catboost import CatBoostRegressor\n",
    "import time\n",
    "from sklearn.preprocessing import OrdinalEncoder\n",
    "import lightgbm as lgb\n",
    "from sklearn.preprocessing import StandardScaler\n",
    "from sklearn.tree import DecisionTreeRegressor\n",
    "from sklearn.ensemble import RandomForestRegressor\n",
    "from sklearn.linear_model import LinearRegression\n",
    "\n",
    "from sklearn.metrics import mean_squared_error\n",
    "from sklearn.model_selection import train_test_split\n",
    "from sklearn.linear_model import LinearRegression\n",
    "from numpy import linalg as LA"
   ]
  },
  {
   "cell_type": "code",
   "execution_count": 2,
   "metadata": {},
   "outputs": [
    {
     "name": "stdout",
     "output_type": "stream",
     "text": [
      "<class 'pandas.core.frame.DataFrame'>\n",
      "RangeIndex: 354369 entries, 0 to 354368\n",
      "Data columns (total 16 columns):\n",
      "DateCrawled          354369 non-null object\n",
      "Price                354369 non-null int64\n",
      "VehicleType          316879 non-null object\n",
      "RegistrationYear     354369 non-null int64\n",
      "Gearbox              334536 non-null object\n",
      "Power                354369 non-null int64\n",
      "Model                334664 non-null object\n",
      "Kilometer            354369 non-null int64\n",
      "RegistrationMonth    354369 non-null int64\n",
      "FuelType             321474 non-null object\n",
      "Brand                354369 non-null object\n",
      "NotRepaired          283215 non-null object\n",
      "DateCreated          354369 non-null object\n",
      "NumberOfPictures     354369 non-null int64\n",
      "PostalCode           354369 non-null int64\n",
      "LastSeen             354369 non-null object\n",
      "dtypes: int64(7), object(9)\n",
      "memory usage: 43.3+ MB\n"
     ]
    },
    {
     "data": {
      "text/html": [
       "<div>\n",
       "<style scoped>\n",
       "    .dataframe tbody tr th:only-of-type {\n",
       "        vertical-align: middle;\n",
       "    }\n",
       "\n",
       "    .dataframe tbody tr th {\n",
       "        vertical-align: top;\n",
       "    }\n",
       "\n",
       "    .dataframe thead th {\n",
       "        text-align: right;\n",
       "    }\n",
       "</style>\n",
       "<table border=\"1\" class=\"dataframe\">\n",
       "  <thead>\n",
       "    <tr style=\"text-align: right;\">\n",
       "      <th></th>\n",
       "      <th>DateCrawled</th>\n",
       "      <th>Price</th>\n",
       "      <th>VehicleType</th>\n",
       "      <th>RegistrationYear</th>\n",
       "      <th>Gearbox</th>\n",
       "      <th>Power</th>\n",
       "      <th>Model</th>\n",
       "      <th>Kilometer</th>\n",
       "      <th>RegistrationMonth</th>\n",
       "      <th>FuelType</th>\n",
       "      <th>Brand</th>\n",
       "      <th>NotRepaired</th>\n",
       "      <th>DateCreated</th>\n",
       "      <th>NumberOfPictures</th>\n",
       "      <th>PostalCode</th>\n",
       "      <th>LastSeen</th>\n",
       "    </tr>\n",
       "  </thead>\n",
       "  <tbody>\n",
       "    <tr>\n",
       "      <td>0</td>\n",
       "      <td>2016-03-24 11:52:17</td>\n",
       "      <td>480</td>\n",
       "      <td>NaN</td>\n",
       "      <td>1993</td>\n",
       "      <td>manual</td>\n",
       "      <td>0</td>\n",
       "      <td>golf</td>\n",
       "      <td>150000</td>\n",
       "      <td>0</td>\n",
       "      <td>petrol</td>\n",
       "      <td>volkswagen</td>\n",
       "      <td>NaN</td>\n",
       "      <td>2016-03-24 00:00:00</td>\n",
       "      <td>0</td>\n",
       "      <td>70435</td>\n",
       "      <td>2016-04-07 03:16:57</td>\n",
       "    </tr>\n",
       "    <tr>\n",
       "      <td>1</td>\n",
       "      <td>2016-03-24 10:58:45</td>\n",
       "      <td>18300</td>\n",
       "      <td>coupe</td>\n",
       "      <td>2011</td>\n",
       "      <td>manual</td>\n",
       "      <td>190</td>\n",
       "      <td>NaN</td>\n",
       "      <td>125000</td>\n",
       "      <td>5</td>\n",
       "      <td>gasoline</td>\n",
       "      <td>audi</td>\n",
       "      <td>yes</td>\n",
       "      <td>2016-03-24 00:00:00</td>\n",
       "      <td>0</td>\n",
       "      <td>66954</td>\n",
       "      <td>2016-04-07 01:46:50</td>\n",
       "    </tr>\n",
       "    <tr>\n",
       "      <td>2</td>\n",
       "      <td>2016-03-14 12:52:21</td>\n",
       "      <td>9800</td>\n",
       "      <td>suv</td>\n",
       "      <td>2004</td>\n",
       "      <td>auto</td>\n",
       "      <td>163</td>\n",
       "      <td>grand</td>\n",
       "      <td>125000</td>\n",
       "      <td>8</td>\n",
       "      <td>gasoline</td>\n",
       "      <td>jeep</td>\n",
       "      <td>NaN</td>\n",
       "      <td>2016-03-14 00:00:00</td>\n",
       "      <td>0</td>\n",
       "      <td>90480</td>\n",
       "      <td>2016-04-05 12:47:46</td>\n",
       "    </tr>\n",
       "    <tr>\n",
       "      <td>3</td>\n",
       "      <td>2016-03-17 16:54:04</td>\n",
       "      <td>1500</td>\n",
       "      <td>small</td>\n",
       "      <td>2001</td>\n",
       "      <td>manual</td>\n",
       "      <td>75</td>\n",
       "      <td>golf</td>\n",
       "      <td>150000</td>\n",
       "      <td>6</td>\n",
       "      <td>petrol</td>\n",
       "      <td>volkswagen</td>\n",
       "      <td>no</td>\n",
       "      <td>2016-03-17 00:00:00</td>\n",
       "      <td>0</td>\n",
       "      <td>91074</td>\n",
       "      <td>2016-03-17 17:40:17</td>\n",
       "    </tr>\n",
       "    <tr>\n",
       "      <td>4</td>\n",
       "      <td>2016-03-31 17:25:20</td>\n",
       "      <td>3600</td>\n",
       "      <td>small</td>\n",
       "      <td>2008</td>\n",
       "      <td>manual</td>\n",
       "      <td>69</td>\n",
       "      <td>fabia</td>\n",
       "      <td>90000</td>\n",
       "      <td>7</td>\n",
       "      <td>gasoline</td>\n",
       "      <td>skoda</td>\n",
       "      <td>no</td>\n",
       "      <td>2016-03-31 00:00:00</td>\n",
       "      <td>0</td>\n",
       "      <td>60437</td>\n",
       "      <td>2016-04-06 10:17:21</td>\n",
       "    </tr>\n",
       "  </tbody>\n",
       "</table>\n",
       "</div>"
      ],
      "text/plain": [
       "           DateCrawled  Price VehicleType  RegistrationYear Gearbox  Power  \\\n",
       "0  2016-03-24 11:52:17    480         NaN              1993  manual      0   \n",
       "1  2016-03-24 10:58:45  18300       coupe              2011  manual    190   \n",
       "2  2016-03-14 12:52:21   9800         suv              2004    auto    163   \n",
       "3  2016-03-17 16:54:04   1500       small              2001  manual     75   \n",
       "4  2016-03-31 17:25:20   3600       small              2008  manual     69   \n",
       "\n",
       "   Model  Kilometer  RegistrationMonth  FuelType       Brand NotRepaired  \\\n",
       "0   golf     150000                  0    petrol  volkswagen         NaN   \n",
       "1    NaN     125000                  5  gasoline        audi         yes   \n",
       "2  grand     125000                  8  gasoline        jeep         NaN   \n",
       "3   golf     150000                  6    petrol  volkswagen          no   \n",
       "4  fabia      90000                  7  gasoline       skoda          no   \n",
       "\n",
       "           DateCreated  NumberOfPictures  PostalCode             LastSeen  \n",
       "0  2016-03-24 00:00:00                 0       70435  2016-04-07 03:16:57  \n",
       "1  2016-03-24 00:00:00                 0       66954  2016-04-07 01:46:50  \n",
       "2  2016-03-14 00:00:00                 0       90480  2016-04-05 12:47:46  \n",
       "3  2016-03-17 00:00:00                 0       91074  2016-03-17 17:40:17  \n",
       "4  2016-03-31 00:00:00                 0       60437  2016-04-06 10:17:21  "
      ]
     },
     "metadata": {},
     "output_type": "display_data"
    }
   ],
   "source": [
    "df = pd.read_csv('/datasets/autos.csv')\n",
    "df.info()\n",
    "display(df.head())"
   ]
  },
  {
   "cell_type": "code",
   "execution_count": 3,
   "metadata": {},
   "outputs": [
    {
     "data": {
      "text/html": [
       "<div>\n",
       "<style scoped>\n",
       "    .dataframe tbody tr th:only-of-type {\n",
       "        vertical-align: middle;\n",
       "    }\n",
       "\n",
       "    .dataframe tbody tr th {\n",
       "        vertical-align: top;\n",
       "    }\n",
       "\n",
       "    .dataframe thead th {\n",
       "        text-align: right;\n",
       "    }\n",
       "</style>\n",
       "<table border=\"1\" class=\"dataframe\">\n",
       "  <thead>\n",
       "    <tr style=\"text-align: right;\">\n",
       "      <th></th>\n",
       "      <th>DateCrawled</th>\n",
       "      <th>Price</th>\n",
       "      <th>VehicleType</th>\n",
       "      <th>RegistrationYear</th>\n",
       "      <th>Gearbox</th>\n",
       "      <th>Power</th>\n",
       "      <th>Model</th>\n",
       "      <th>Kilometer</th>\n",
       "      <th>RegistrationMonth</th>\n",
       "      <th>FuelType</th>\n",
       "      <th>Brand</th>\n",
       "      <th>NotRepaired</th>\n",
       "      <th>DateCreated</th>\n",
       "      <th>NumberOfPictures</th>\n",
       "      <th>PostalCode</th>\n",
       "      <th>LastSeen</th>\n",
       "    </tr>\n",
       "  </thead>\n",
       "  <tbody>\n",
       "    <tr>\n",
       "      <td>231053</td>\n",
       "      <td>2016-03-15 19:47:01</td>\n",
       "      <td>2480</td>\n",
       "      <td>small</td>\n",
       "      <td>1997</td>\n",
       "      <td>manual</td>\n",
       "      <td>240</td>\n",
       "      <td>NaN</td>\n",
       "      <td>150000</td>\n",
       "      <td>12</td>\n",
       "      <td>petrol</td>\n",
       "      <td>audi</td>\n",
       "      <td>no</td>\n",
       "      <td>2016-03-15 00:00:00</td>\n",
       "      <td>0</td>\n",
       "      <td>90530</td>\n",
       "      <td>2016-04-02 23:15:58</td>\n",
       "    </tr>\n",
       "    <tr>\n",
       "      <td>65007</td>\n",
       "      <td>2016-03-07 07:55:49</td>\n",
       "      <td>5800</td>\n",
       "      <td>small</td>\n",
       "      <td>2005</td>\n",
       "      <td>manual</td>\n",
       "      <td>75</td>\n",
       "      <td>touran</td>\n",
       "      <td>150000</td>\n",
       "      <td>9</td>\n",
       "      <td>gasoline</td>\n",
       "      <td>volkswagen</td>\n",
       "      <td>no</td>\n",
       "      <td>2016-03-07 00:00:00</td>\n",
       "      <td>0</td>\n",
       "      <td>64289</td>\n",
       "      <td>2016-04-07 06:45:58</td>\n",
       "    </tr>\n",
       "    <tr>\n",
       "      <td>204414</td>\n",
       "      <td>2016-03-23 13:36:43</td>\n",
       "      <td>5900</td>\n",
       "      <td>sedan</td>\n",
       "      <td>2004</td>\n",
       "      <td>auto</td>\n",
       "      <td>150</td>\n",
       "      <td>c_klasse</td>\n",
       "      <td>150000</td>\n",
       "      <td>5</td>\n",
       "      <td>gasoline</td>\n",
       "      <td>mercedes_benz</td>\n",
       "      <td>no</td>\n",
       "      <td>2016-03-23 00:00:00</td>\n",
       "      <td>0</td>\n",
       "      <td>93471</td>\n",
       "      <td>2016-03-23 14:40:18</td>\n",
       "    </tr>\n",
       "    <tr>\n",
       "      <td>21261</td>\n",
       "      <td>2016-04-03 09:51:02</td>\n",
       "      <td>2250</td>\n",
       "      <td>wagon</td>\n",
       "      <td>1999</td>\n",
       "      <td>manual</td>\n",
       "      <td>165</td>\n",
       "      <td>a6</td>\n",
       "      <td>150000</td>\n",
       "      <td>12</td>\n",
       "      <td>petrol</td>\n",
       "      <td>audi</td>\n",
       "      <td>no</td>\n",
       "      <td>2016-04-03 00:00:00</td>\n",
       "      <td>0</td>\n",
       "      <td>47623</td>\n",
       "      <td>2016-04-05 08:49:25</td>\n",
       "    </tr>\n",
       "    <tr>\n",
       "      <td>279678</td>\n",
       "      <td>2016-03-19 15:56:14</td>\n",
       "      <td>9800</td>\n",
       "      <td>sedan</td>\n",
       "      <td>2010</td>\n",
       "      <td>manual</td>\n",
       "      <td>122</td>\n",
       "      <td>1er</td>\n",
       "      <td>60000</td>\n",
       "      <td>12</td>\n",
       "      <td>petrol</td>\n",
       "      <td>bmw</td>\n",
       "      <td>no</td>\n",
       "      <td>2016-03-19 00:00:00</td>\n",
       "      <td>0</td>\n",
       "      <td>59425</td>\n",
       "      <td>2016-03-23 02:49:28</td>\n",
       "    </tr>\n",
       "  </tbody>\n",
       "</table>\n",
       "</div>"
      ],
      "text/plain": [
       "                DateCrawled  Price VehicleType  RegistrationYear Gearbox  \\\n",
       "231053  2016-03-15 19:47:01   2480       small              1997  manual   \n",
       "65007   2016-03-07 07:55:49   5800       small              2005  manual   \n",
       "204414  2016-03-23 13:36:43   5900       sedan              2004    auto   \n",
       "21261   2016-04-03 09:51:02   2250       wagon              1999  manual   \n",
       "279678  2016-03-19 15:56:14   9800       sedan              2010  manual   \n",
       "\n",
       "        Power     Model  Kilometer  RegistrationMonth  FuelType  \\\n",
       "231053    240       NaN     150000                 12    petrol   \n",
       "65007      75    touran     150000                  9  gasoline   \n",
       "204414    150  c_klasse     150000                  5  gasoline   \n",
       "21261     165        a6     150000                 12    petrol   \n",
       "279678    122       1er      60000                 12    petrol   \n",
       "\n",
       "                Brand NotRepaired          DateCreated  NumberOfPictures  \\\n",
       "231053           audi          no  2016-03-15 00:00:00                 0   \n",
       "65007      volkswagen          no  2016-03-07 00:00:00                 0   \n",
       "204414  mercedes_benz          no  2016-03-23 00:00:00                 0   \n",
       "21261            audi          no  2016-04-03 00:00:00                 0   \n",
       "279678            bmw          no  2016-03-19 00:00:00                 0   \n",
       "\n",
       "        PostalCode             LastSeen  \n",
       "231053       90530  2016-04-02 23:15:58  \n",
       "65007        64289  2016-04-07 06:45:58  \n",
       "204414       93471  2016-03-23 14:40:18  \n",
       "21261        47623  2016-04-05 08:49:25  \n",
       "279678       59425  2016-03-23 02:49:28  "
      ]
     },
     "metadata": {},
     "output_type": "display_data"
    }
   ],
   "source": [
    "display(df.sample(5, random_state=10000))"
   ]
  },
  {
   "cell_type": "code",
   "execution_count": 4,
   "metadata": {},
   "outputs": [
    {
     "name": "stdout",
     "output_type": "stream",
     "text": [
      "<class 'pandas.core.frame.DataFrame'>\n",
      "Int64Index: 284126 entries, 2 to 354368\n",
      "Data columns (total 16 columns):\n",
      "DateCrawled          284126 non-null object\n",
      "Price                284126 non-null int64\n",
      "VehicleType          284126 non-null object\n",
      "RegistrationYear     284126 non-null int64\n",
      "Gearbox              284126 non-null object\n",
      "Power                284126 non-null int64\n",
      "Model                284126 non-null object\n",
      "Kilometer            284126 non-null int64\n",
      "RegistrationMonth    284126 non-null int64\n",
      "FuelType             284126 non-null object\n",
      "Brand                284126 non-null object\n",
      "NotRepaired          284126 non-null object\n",
      "DateCreated          284126 non-null object\n",
      "NumberOfPictures     284126 non-null int64\n",
      "PostalCode           284126 non-null int64\n",
      "LastSeen             284126 non-null object\n",
      "dtypes: int64(7), object(9)\n",
      "memory usage: 36.9+ MB\n"
     ]
    },
    {
     "data": {
      "text/html": [
       "<div>\n",
       "<style scoped>\n",
       "    .dataframe tbody tr th:only-of-type {\n",
       "        vertical-align: middle;\n",
       "    }\n",
       "\n",
       "    .dataframe tbody tr th {\n",
       "        vertical-align: top;\n",
       "    }\n",
       "\n",
       "    .dataframe thead th {\n",
       "        text-align: right;\n",
       "    }\n",
       "</style>\n",
       "<table border=\"1\" class=\"dataframe\">\n",
       "  <thead>\n",
       "    <tr style=\"text-align: right;\">\n",
       "      <th></th>\n",
       "      <th>DateCrawled</th>\n",
       "      <th>Price</th>\n",
       "      <th>VehicleType</th>\n",
       "      <th>RegistrationYear</th>\n",
       "      <th>Gearbox</th>\n",
       "      <th>Power</th>\n",
       "      <th>Model</th>\n",
       "      <th>Kilometer</th>\n",
       "      <th>RegistrationMonth</th>\n",
       "      <th>FuelType</th>\n",
       "      <th>Brand</th>\n",
       "      <th>NotRepaired</th>\n",
       "      <th>DateCreated</th>\n",
       "      <th>NumberOfPictures</th>\n",
       "      <th>PostalCode</th>\n",
       "      <th>LastSeen</th>\n",
       "    </tr>\n",
       "  </thead>\n",
       "  <tbody>\n",
       "    <tr>\n",
       "      <td>2</td>\n",
       "      <td>2016-03-14 12:52:21</td>\n",
       "      <td>9800</td>\n",
       "      <td>suv</td>\n",
       "      <td>2004</td>\n",
       "      <td>auto</td>\n",
       "      <td>163</td>\n",
       "      <td>grand</td>\n",
       "      <td>125000</td>\n",
       "      <td>8</td>\n",
       "      <td>gasoline</td>\n",
       "      <td>jeep</td>\n",
       "      <td>no</td>\n",
       "      <td>2016-03-14 00:00:00</td>\n",
       "      <td>0</td>\n",
       "      <td>90480</td>\n",
       "      <td>2016-04-05 12:47:46</td>\n",
       "    </tr>\n",
       "    <tr>\n",
       "      <td>3</td>\n",
       "      <td>2016-03-17 16:54:04</td>\n",
       "      <td>1500</td>\n",
       "      <td>small</td>\n",
       "      <td>2001</td>\n",
       "      <td>manual</td>\n",
       "      <td>75</td>\n",
       "      <td>golf</td>\n",
       "      <td>150000</td>\n",
       "      <td>6</td>\n",
       "      <td>petrol</td>\n",
       "      <td>volkswagen</td>\n",
       "      <td>no</td>\n",
       "      <td>2016-03-17 00:00:00</td>\n",
       "      <td>0</td>\n",
       "      <td>91074</td>\n",
       "      <td>2016-03-17 17:40:17</td>\n",
       "    </tr>\n",
       "    <tr>\n",
       "      <td>4</td>\n",
       "      <td>2016-03-31 17:25:20</td>\n",
       "      <td>3600</td>\n",
       "      <td>small</td>\n",
       "      <td>2008</td>\n",
       "      <td>manual</td>\n",
       "      <td>69</td>\n",
       "      <td>fabia</td>\n",
       "      <td>90000</td>\n",
       "      <td>7</td>\n",
       "      <td>gasoline</td>\n",
       "      <td>skoda</td>\n",
       "      <td>no</td>\n",
       "      <td>2016-03-31 00:00:00</td>\n",
       "      <td>0</td>\n",
       "      <td>60437</td>\n",
       "      <td>2016-04-06 10:17:21</td>\n",
       "    </tr>\n",
       "    <tr>\n",
       "      <td>5</td>\n",
       "      <td>2016-04-04 17:36:23</td>\n",
       "      <td>650</td>\n",
       "      <td>sedan</td>\n",
       "      <td>1995</td>\n",
       "      <td>manual</td>\n",
       "      <td>102</td>\n",
       "      <td>3er</td>\n",
       "      <td>150000</td>\n",
       "      <td>10</td>\n",
       "      <td>petrol</td>\n",
       "      <td>bmw</td>\n",
       "      <td>yes</td>\n",
       "      <td>2016-04-04 00:00:00</td>\n",
       "      <td>0</td>\n",
       "      <td>33775</td>\n",
       "      <td>2016-04-06 19:17:07</td>\n",
       "    </tr>\n",
       "    <tr>\n",
       "      <td>6</td>\n",
       "      <td>2016-04-01 20:48:51</td>\n",
       "      <td>2200</td>\n",
       "      <td>convertible</td>\n",
       "      <td>2004</td>\n",
       "      <td>manual</td>\n",
       "      <td>109</td>\n",
       "      <td>2_reihe</td>\n",
       "      <td>150000</td>\n",
       "      <td>8</td>\n",
       "      <td>petrol</td>\n",
       "      <td>peugeot</td>\n",
       "      <td>no</td>\n",
       "      <td>2016-04-01 00:00:00</td>\n",
       "      <td>0</td>\n",
       "      <td>67112</td>\n",
       "      <td>2016-04-05 18:18:39</td>\n",
       "    </tr>\n",
       "  </tbody>\n",
       "</table>\n",
       "</div>"
      ],
      "text/plain": [
       "           DateCrawled  Price  VehicleType  RegistrationYear Gearbox  Power  \\\n",
       "2  2016-03-14 12:52:21   9800          suv              2004    auto    163   \n",
       "3  2016-03-17 16:54:04   1500        small              2001  manual     75   \n",
       "4  2016-03-31 17:25:20   3600        small              2008  manual     69   \n",
       "5  2016-04-04 17:36:23    650        sedan              1995  manual    102   \n",
       "6  2016-04-01 20:48:51   2200  convertible              2004  manual    109   \n",
       "\n",
       "     Model  Kilometer  RegistrationMonth  FuelType       Brand NotRepaired  \\\n",
       "2    grand     125000                  8  gasoline        jeep          no   \n",
       "3     golf     150000                  6    petrol  volkswagen          no   \n",
       "4    fabia      90000                  7  gasoline       skoda          no   \n",
       "5      3er     150000                 10    petrol         bmw         yes   \n",
       "6  2_reihe     150000                  8    petrol     peugeot          no   \n",
       "\n",
       "           DateCreated  NumberOfPictures  PostalCode             LastSeen  \n",
       "2  2016-03-14 00:00:00                 0       90480  2016-04-05 12:47:46  \n",
       "3  2016-03-17 00:00:00                 0       91074  2016-03-17 17:40:17  \n",
       "4  2016-03-31 00:00:00                 0       60437  2016-04-06 10:17:21  \n",
       "5  2016-04-04 00:00:00                 0       33775  2016-04-06 19:17:07  \n",
       "6  2016-04-01 00:00:00                 0       67112  2016-04-05 18:18:39  "
      ]
     },
     "metadata": {},
     "output_type": "display_data"
    },
    {
     "data": {
      "text/plain": [
       "array([0])"
      ]
     },
     "execution_count": 4,
     "metadata": {},
     "output_type": "execute_result"
    }
   ],
   "source": [
    "df['VehicleType'] = df['VehicleType'].fillna(0)\n",
    "df = df.query('VehicleType != 0')\n",
    "df['Gearbox'] = df['Gearbox'].fillna(0)\n",
    "df = df.query('Gearbox != 0')\n",
    "df['Model'] = df['Model'].fillna(0)\n",
    "df = df.query('Model != 0')\n",
    "df['FuelType'] = df['FuelType'].fillna(0)\n",
    "df = df.query('FuelType != 0')\n",
    "df['NotRepaired'] = df['NotRepaired'].fillna('no')\n",
    "df.info()\n",
    "display(df.head())\n",
    "df['NumberOfPictures'].unique()\n"
   ]
  },
  {
   "cell_type": "code",
   "execution_count": 5,
   "metadata": {},
   "outputs": [
    {
     "data": {
      "text/plain": [
       "0"
      ]
     },
     "execution_count": 5,
     "metadata": {},
     "output_type": "execute_result"
    }
   ],
   "source": [
    "df = df.drop_duplicates()\n",
    "df.duplicated().sum()"
   ]
  },
  {
   "cell_type": "code",
   "execution_count": 6,
   "metadata": {},
   "outputs": [],
   "source": [
    "df = df.drop(['DateCrawled', 'DateCreated', 'LastSeen', 'PostalCode', 'PostalCode', 'NumberOfPictures', 'RegistrationMonth'], axis = 1)"
   ]
  },
  {
   "cell_type": "code",
   "execution_count": 7,
   "metadata": {},
   "outputs": [
    {
     "name": "stdout",
     "output_type": "stream",
     "text": [
      "                     Price  RegistrationYear     Power  Kilometer\n",
      "Price             1.000000          0.548494  0.167917  -0.386360\n",
      "RegistrationYear  0.548494          1.000000  0.063803  -0.325723\n",
      "Power             0.167917          0.063803  1.000000   0.022887\n",
      "Kilometer        -0.386360         -0.325723  0.022887   1.000000\n"
     ]
    },
    {
     "data": {
      "text/html": [
       "<div>\n",
       "<style scoped>\n",
       "    .dataframe tbody tr th:only-of-type {\n",
       "        vertical-align: middle;\n",
       "    }\n",
       "\n",
       "    .dataframe tbody tr th {\n",
       "        vertical-align: top;\n",
       "    }\n",
       "\n",
       "    .dataframe thead th {\n",
       "        text-align: right;\n",
       "    }\n",
       "</style>\n",
       "<table border=\"1\" class=\"dataframe\">\n",
       "  <thead>\n",
       "    <tr style=\"text-align: right;\">\n",
       "      <th></th>\n",
       "      <th>Price</th>\n",
       "      <th>RegistrationYear</th>\n",
       "      <th>Power</th>\n",
       "      <th>Kilometer</th>\n",
       "    </tr>\n",
       "  </thead>\n",
       "  <tbody>\n",
       "    <tr>\n",
       "      <td>count</td>\n",
       "      <td>284121.000000</td>\n",
       "      <td>284121.00000</td>\n",
       "      <td>284121.000000</td>\n",
       "      <td>284121.000000</td>\n",
       "    </tr>\n",
       "    <tr>\n",
       "      <td>mean</td>\n",
       "      <td>4847.271638</td>\n",
       "      <td>2002.56786</td>\n",
       "      <td>117.726581</td>\n",
       "      <td>128261.902499</td>\n",
       "    </tr>\n",
       "    <tr>\n",
       "      <td>std</td>\n",
       "      <td>4637.060177</td>\n",
       "      <td>6.24385</td>\n",
       "      <td>169.108595</td>\n",
       "      <td>36739.686622</td>\n",
       "    </tr>\n",
       "    <tr>\n",
       "      <td>min</td>\n",
       "      <td>0.000000</td>\n",
       "      <td>1910.00000</td>\n",
       "      <td>0.000000</td>\n",
       "      <td>5000.000000</td>\n",
       "    </tr>\n",
       "    <tr>\n",
       "      <td>25%</td>\n",
       "      <td>1300.000000</td>\n",
       "      <td>1999.00000</td>\n",
       "      <td>75.000000</td>\n",
       "      <td>125000.000000</td>\n",
       "    </tr>\n",
       "    <tr>\n",
       "      <td>50%</td>\n",
       "      <td>3199.000000</td>\n",
       "      <td>2003.00000</td>\n",
       "      <td>109.000000</td>\n",
       "      <td>150000.000000</td>\n",
       "    </tr>\n",
       "    <tr>\n",
       "      <td>75%</td>\n",
       "      <td>6999.000000</td>\n",
       "      <td>2007.00000</td>\n",
       "      <td>147.000000</td>\n",
       "      <td>150000.000000</td>\n",
       "    </tr>\n",
       "    <tr>\n",
       "      <td>max</td>\n",
       "      <td>20000.000000</td>\n",
       "      <td>2018.00000</td>\n",
       "      <td>20000.000000</td>\n",
       "      <td>150000.000000</td>\n",
       "    </tr>\n",
       "  </tbody>\n",
       "</table>\n",
       "</div>"
      ],
      "text/plain": [
       "               Price  RegistrationYear          Power      Kilometer\n",
       "count  284121.000000      284121.00000  284121.000000  284121.000000\n",
       "mean     4847.271638        2002.56786     117.726581  128261.902499\n",
       "std      4637.060177           6.24385     169.108595   36739.686622\n",
       "min         0.000000        1910.00000       0.000000    5000.000000\n",
       "25%      1300.000000        1999.00000      75.000000  125000.000000\n",
       "50%      3199.000000        2003.00000     109.000000  150000.000000\n",
       "75%      6999.000000        2007.00000     147.000000  150000.000000\n",
       "max     20000.000000        2018.00000   20000.000000  150000.000000"
      ]
     },
     "execution_count": 7,
     "metadata": {},
     "output_type": "execute_result"
    },
    {
     "data": {
      "image/png": "[encoded data removed]",
      "text/plain": [
       "<Figure size 1080x1080 with 16 Axes>"
      ]
     },
     "metadata": {
      "needs_background": "light"
     },
     "output_type": "display_data"
    }
   ],
   "source": [
    "pd.plotting.scatter_matrix(df, figsize=(15, 15))\n",
    "print(df.corr())\n",
    "df.describe()\n",
    "#t = time.time()\n",
    "#print(time.time() - t)"
   ]
  },
  {
   "cell_type": "markdown",
   "metadata": {},
   "source": [
    "В результате изучения данных обнаружены пропуски в колонках VehicleType - тип автомобильного кузова , Gearbox - тип коробки передач, Model - модель автомобиля, FuelType - тип топлива, NotRepaired - была машина в ремонте или нет. Первые четыре колонки являются важными показателями, влияющими сильно на цену автомобиля. Поэтому заменить их например средним значением нелогично и некорректно. Чтобы избавиться от негативных влияний я удаляю эти значения, в общем сумме данные сократятся на 20%. Это достаточно большая потеря, но все равно считаю, что данных для обучения останется достаточно. Вариант поставить значения \"other\" мне не нравится, потому что просто выделяем неизвестные значения в общий столбец, и они будут как-то неккоректно влиять. Для столбца NotRepaired предположил замену сделать на \"нет\", потому что это более вероятно, если бы был ремонт это было бы в базе. Все данные за 16 год, все в одном временном диапазоне.\n",
    "Столбцы 'DateCrawled', 'DateCreated', 'LastSeen', 'PostalCode', 'PostalCode', 'NumberOfPictures', 'RegistrationMonth' были удалены как ненужные, они содержат лишнюю информацию, которая будет утежелять модель, а также искажать данные. Стобец NumberOfPictures содержит только нулевые значения."
   ]
  },
  {
   "cell_type": "markdown",
   "metadata": {},
   "source": [
    "## Обучение моделей"
   ]
  },
  {
   "cell_type": "code",
   "execution_count": 8,
   "metadata": {},
   "outputs": [],
   "source": [
    "df['VehicleType'] = df['VehicleType'].astype('category')\n",
    "df['Gearbox'] = df['Gearbox'].astype('category')\n",
    "df['Model'] = df['Model'].astype('category')\n",
    "df['FuelType'] = df['FuelType'].astype('category')\n",
    "df['Brand'] = df['Brand'].astype('category')\n",
    "df['NotRepaired'] = df['NotRepaired'].astype('category')"
   ]
  },
  {
   "cell_type": "code",
   "execution_count": 9,
   "metadata": {},
   "outputs": [],
   "source": [
    "features = df.drop('Price', axis=1)\n",
    "target = df['Price']"
   ]
  },
  {
   "cell_type": "code",
   "execution_count": 10,
   "metadata": {},
   "outputs": [
    {
     "data": {
      "text/html": [
       "<div>\n",
       "<style scoped>\n",
       "    .dataframe tbody tr th:only-of-type {\n",
       "        vertical-align: middle;\n",
       "    }\n",
       "\n",
       "    .dataframe tbody tr th {\n",
       "        vertical-align: top;\n",
       "    }\n",
       "\n",
       "    .dataframe thead th {\n",
       "        text-align: right;\n",
       "    }\n",
       "</style>\n",
       "<table border=\"1\" class=\"dataframe\">\n",
       "  <thead>\n",
       "    <tr style=\"text-align: right;\">\n",
       "      <th></th>\n",
       "      <th>Price</th>\n",
       "      <th>VehicleType</th>\n",
       "      <th>RegistrationYear</th>\n",
       "      <th>Gearbox</th>\n",
       "      <th>Power</th>\n",
       "      <th>Model</th>\n",
       "      <th>Kilometer</th>\n",
       "      <th>FuelType</th>\n",
       "      <th>Brand</th>\n",
       "      <th>NotRepaired</th>\n",
       "    </tr>\n",
       "  </thead>\n",
       "  <tbody>\n",
       "    <tr>\n",
       "      <td>2</td>\n",
       "      <td>9800</td>\n",
       "      <td>suv</td>\n",
       "      <td>2004</td>\n",
       "      <td>auto</td>\n",
       "      <td>163</td>\n",
       "      <td>grand</td>\n",
       "      <td>125000</td>\n",
       "      <td>gasoline</td>\n",
       "      <td>jeep</td>\n",
       "      <td>no</td>\n",
       "    </tr>\n",
       "    <tr>\n",
       "      <td>3</td>\n",
       "      <td>1500</td>\n",
       "      <td>small</td>\n",
       "      <td>2001</td>\n",
       "      <td>manual</td>\n",
       "      <td>75</td>\n",
       "      <td>golf</td>\n",
       "      <td>150000</td>\n",
       "      <td>petrol</td>\n",
       "      <td>volkswagen</td>\n",
       "      <td>no</td>\n",
       "    </tr>\n",
       "    <tr>\n",
       "      <td>4</td>\n",
       "      <td>3600</td>\n",
       "      <td>small</td>\n",
       "      <td>2008</td>\n",
       "      <td>manual</td>\n",
       "      <td>69</td>\n",
       "      <td>fabia</td>\n",
       "      <td>90000</td>\n",
       "      <td>gasoline</td>\n",
       "      <td>skoda</td>\n",
       "      <td>no</td>\n",
       "    </tr>\n",
       "    <tr>\n",
       "      <td>5</td>\n",
       "      <td>650</td>\n",
       "      <td>sedan</td>\n",
       "      <td>1995</td>\n",
       "      <td>manual</td>\n",
       "      <td>102</td>\n",
       "      <td>3er</td>\n",
       "      <td>150000</td>\n",
       "      <td>petrol</td>\n",
       "      <td>bmw</td>\n",
       "      <td>yes</td>\n",
       "    </tr>\n",
       "    <tr>\n",
       "      <td>6</td>\n",
       "      <td>2200</td>\n",
       "      <td>convertible</td>\n",
       "      <td>2004</td>\n",
       "      <td>manual</td>\n",
       "      <td>109</td>\n",
       "      <td>2_reihe</td>\n",
       "      <td>150000</td>\n",
       "      <td>petrol</td>\n",
       "      <td>peugeot</td>\n",
       "      <td>no</td>\n",
       "    </tr>\n",
       "  </tbody>\n",
       "</table>\n",
       "</div>"
      ],
      "text/plain": [
       "   Price  VehicleType  RegistrationYear Gearbox  Power    Model  Kilometer  \\\n",
       "2   9800          suv              2004    auto    163    grand     125000   \n",
       "3   1500        small              2001  manual     75     golf     150000   \n",
       "4   3600        small              2008  manual     69    fabia      90000   \n",
       "5    650        sedan              1995  manual    102      3er     150000   \n",
       "6   2200  convertible              2004  manual    109  2_reihe     150000   \n",
       "\n",
       "   FuelType       Brand NotRepaired  \n",
       "2  gasoline        jeep          no  \n",
       "3    petrol  volkswagen          no  \n",
       "4  gasoline       skoda          no  \n",
       "5    petrol         bmw         yes  \n",
       "6    petrol     peugeot          no  "
      ]
     },
     "metadata": {},
     "output_type": "display_data"
    },
    {
     "name": "stdout",
     "output_type": "stream",
     "text": [
      "<class 'pandas.core.frame.DataFrame'>\n",
      "Int64Index: 284121 entries, 2 to 354368\n",
      "Data columns (total 10 columns):\n",
      "Price               284121 non-null int64\n",
      "VehicleType         284121 non-null category\n",
      "RegistrationYear    284121 non-null int64\n",
      "Gearbox             284121 non-null category\n",
      "Power               284121 non-null int64\n",
      "Model               284121 non-null category\n",
      "Kilometer           284121 non-null int64\n",
      "FuelType            284121 non-null category\n",
      "Brand               284121 non-null category\n",
      "NotRepaired         284121 non-null category\n",
      "dtypes: category(6), int64(4)\n",
      "memory usage: 12.7 MB\n"
     ]
    }
   ],
   "source": [
    "display(df.head())\n",
    "df.info()"
   ]
  },
  {
   "cell_type": "code",
   "execution_count": 11,
   "metadata": {},
   "outputs": [],
   "source": [
    "target = df['Price']\n",
    "features = df.drop('Price', axis=1)\n",
    "\n",
    "features_train, features_valid, target_train, target_valid = train_test_split(\n",
    "    features, target, test_size=0.2, random_state=12345)\n",
    "\n",
    "categorial_columns = ['VehicleType', 'Gearbox', 'Model',\n",
    "                'FuelType', 'Brand', 'NotRepaired']\n",
    "\n",
    "model = CatBoostRegressor(loss_function=\"RMSE\", iterations=250, random_seed=12345, verbose=50)# < напишите код здесь >"
   ]
  },
  {
   "cell_type": "code",
   "execution_count": 12,
   "metadata": {},
   "outputs": [
    {
     "name": "stdout",
     "output_type": "stream",
     "text": [
      "0:\tlearn: 4542.8845191\ttotal: 743ms\tremaining: 3m 5s\n",
      "50:\tlearn: 2410.8138685\ttotal: 31.6s\tremaining: 2m 3s\n",
      "100:\tlearn: 2024.3112788\ttotal: 1m\tremaining: 1m 29s\n",
      "150:\tlearn: 1921.8912747\ttotal: 1m 30s\tremaining: 59.1s\n",
      "200:\tlearn: 1877.2684021\ttotal: 2m\tremaining: 29.3s\n",
      "249:\tlearn: 1845.0767602\ttotal: 2m 29s\tremaining: 0us\n"
     ]
    }
   ],
   "source": [
    "start_time = time.time()\n",
    "model.fit(features_train, target_train, cat_features=categorial_columns)\n",
    "end_time = time.time() - start_time\n",
    "start_time1 = time.time()\n",
    "probabilities_valid = model.predict(features_valid)\n",
    "end_time1 = time.time() - start_time1"
   ]
  },
  {
   "cell_type": "code",
   "execution_count": 13,
   "metadata": {},
   "outputs": [
    {
     "name": "stdout",
     "output_type": "stream",
     "text": [
      "Время обучения, сек: 151.50929021835327\n",
      "Время предсказания, сек: 0.1662435531616211\n"
     ]
    }
   ],
   "source": [
    "print('Время обучения, сек:', end_time)\n",
    "print('Время предсказания, сек:', end_time1)"
   ]
  },
  {
   "cell_type": "code",
   "execution_count": 14,
   "metadata": {},
   "outputs": [
    {
     "name": "stdout",
     "output_type": "stream",
     "text": [
      "[1]\tvalid_0's rmse: 4290.8\tvalid_0's l2: 1.8411e+07\n",
      "[2]\tvalid_0's rmse: 3988.03\tvalid_0's l2: 1.59044e+07\n",
      "[3]\tvalid_0's rmse: 3721.83\tvalid_0's l2: 1.3852e+07\n",
      "[4]\tvalid_0's rmse: 3485.39\tvalid_0's l2: 1.21479e+07\n",
      "[5]\tvalid_0's rmse: 3279.98\tvalid_0's l2: 1.07583e+07\n",
      "[6]\tvalid_0's rmse: 3099.07\tvalid_0's l2: 9.60421e+06\n",
      "[7]\tvalid_0's rmse: 2939.25\tvalid_0's l2: 8.63917e+06\n",
      "[8]\tvalid_0's rmse: 2800.46\tvalid_0's l2: 7.84259e+06\n",
      "[9]\tvalid_0's rmse: 2676.13\tvalid_0's l2: 7.16168e+06\n",
      "[10]\tvalid_0's rmse: 2567.26\tvalid_0's l2: 6.59084e+06\n",
      "Время обучения, сек: 20.8784658908844\n",
      "Время предсказания, сек: 0.197174072265625\n"
     ]
    }
   ],
   "source": [
    "booster = lgb.LGBMRegressor(objective=\"regression_l2\", n_estimators=10)\n",
    "start_time3 = time.time()\n",
    "booster.fit(features_train, target_train, eval_set=[(features_valid, target_valid),], eval_metric=[\"rmse\"])\n",
    "end_time3 = time.time() - start_time3\n",
    "\n",
    "start_time4 = time.time()\n",
    "probabiliti_valid = booster.predict(features_valid)\n",
    "end_time4 = time.time() - start_time4\n",
    "print('Время обучения, сек:', end_time3)\n",
    "print('Время предсказания, сек:', end_time4)"
   ]
  },
  {
   "cell_type": "markdown",
   "metadata": {},
   "source": [
    "Проведен расчет моделей методом градиентного бустинга CatBoost и LightGBM. Получены необходимые метрики и время расчета. Для того, чтобы работал метод LightGBM произведена замена типа \"object\" на тип \"category\". Метод CatBoost может работать и без этого, я проверил. Немного менял гиперпараметры в качестве обучения. В данном случае произвел разбивку исходного датафрейма на трейн и валид, тестовую решил не делать в связи с тем, что метрику rmse мы может получить в процессе работы бустингов."
   ]
  },
  {
   "cell_type": "code",
   "execution_count": 17,
   "metadata": {},
   "outputs": [],
   "source": [
    "target = df['Price']\n",
    "features = df.drop('Price', axis=1)\n",
    "#numeric1 = ['VehicleType', 'Gearbox', 'Model', 'FuelType', 'Brand', 'NotRepaired']\n",
    "\n",
    "encoder = OrdinalEncoder()\n",
    "\n",
    "#features_en = features1.drop(['RegistrationYear', 'Power', 'Kilometer'], axis=1)\n",
    "features[['VehicleType', 'Gearbox', 'Model', 'FuelType', 'Brand', 'NotRepaired']] = encoder.fit_transform(features[['VehicleType', 'Gearbox', 'Model', 'FuelType', 'Brand', 'NotRepaired']])\n",
    "\n",
    "#features_ordinal['RegistrationYear'] = features1['RegistrationYear']\n",
    "#features_ordinal['Power'] = features1['Power']\n",
    "#features_ordinal['Kilometer'] = features1['Kilometer']\n",
    "\n",
    "\n",
    "features_prom, features_test, target_prom, target_test = train_test_split(\n",
    "    features, target, test_size=0.2, random_state=12345)\n",
    "\n",
    "features_train, features_valid, target_train, target_valid = train_test_split(\n",
    "    features_prom, target_prom, test_size=0.25, random_state=12345)"
   ]
  },
  {
   "cell_type": "code",
   "execution_count": 19,
   "metadata": {},
   "outputs": [
    {
     "name": "stdout",
     "output_type": "stream",
     "text": [
      "<class 'pandas.core.frame.DataFrame'>\n",
      "Int64Index: 284121 entries, 2 to 354368\n",
      "Data columns (total 9 columns):\n",
      "VehicleType         284121 non-null float64\n",
      "RegistrationYear    284121 non-null int64\n",
      "Gearbox             284121 non-null float64\n",
      "Power               284121 non-null int64\n",
      "Model               284121 non-null float64\n",
      "Kilometer           284121 non-null int64\n",
      "FuelType            284121 non-null float64\n",
      "Brand               284121 non-null float64\n",
      "NotRepaired         284121 non-null float64\n",
      "dtypes: float64(6), int64(3)\n",
      "memory usage: 21.7 MB\n"
     ]
    }
   ],
   "source": [
    "features.info()"
   ]
  },
  {
   "cell_type": "code",
   "execution_count": 20,
   "metadata": {},
   "outputs": [
    {
     "name": "stderr",
     "output_type": "stream",
     "text": [
      "/opt/conda/lib/python3.7/site-packages/ipykernel_launcher.py:5: SettingWithCopyWarning: \n",
      "A value is trying to be set on a copy of a slice from a DataFrame.\n",
      "Try using .loc[row_indexer,col_indexer] = value instead\n",
      "\n",
      "See the caveats in the documentation: http://pandas.pydata.org/pandas-docs/stable/user_guide/indexing.html#returning-a-view-versus-a-copy\n",
      "  \"\"\"\n",
      "/opt/conda/lib/python3.7/site-packages/pandas/core/indexing.py:494: SettingWithCopyWarning: \n",
      "A value is trying to be set on a copy of a slice from a DataFrame.\n",
      "Try using .loc[row_indexer,col_indexer] = value instead\n",
      "\n",
      "See the caveats in the documentation: http://pandas.pydata.org/pandas-docs/stable/user_guide/indexing.html#returning-a-view-versus-a-copy\n",
      "  self.obj[item] = s\n",
      "/opt/conda/lib/python3.7/site-packages/ipykernel_launcher.py:6: SettingWithCopyWarning: \n",
      "A value is trying to be set on a copy of a slice from a DataFrame.\n",
      "Try using .loc[row_indexer,col_indexer] = value instead\n",
      "\n",
      "See the caveats in the documentation: http://pandas.pydata.org/pandas-docs/stable/user_guide/indexing.html#returning-a-view-versus-a-copy\n",
      "  \n",
      "/opt/conda/lib/python3.7/site-packages/pandas/core/indexing.py:494: SettingWithCopyWarning: \n",
      "A value is trying to be set on a copy of a slice from a DataFrame.\n",
      "Try using .loc[row_indexer,col_indexer] = value instead\n",
      "\n",
      "See the caveats in the documentation: http://pandas.pydata.org/pandas-docs/stable/user_guide/indexing.html#returning-a-view-versus-a-copy\n",
      "  self.obj[item] = s\n",
      "/opt/conda/lib/python3.7/site-packages/ipykernel_launcher.py:7: SettingWithCopyWarning: \n",
      "A value is trying to be set on a copy of a slice from a DataFrame.\n",
      "Try using .loc[row_indexer,col_indexer] = value instead\n",
      "\n",
      "See the caveats in the documentation: http://pandas.pydata.org/pandas-docs/stable/user_guide/indexing.html#returning-a-view-versus-a-copy\n",
      "  import sys\n",
      "/opt/conda/lib/python3.7/site-packages/pandas/core/indexing.py:494: SettingWithCopyWarning: \n",
      "A value is trying to be set on a copy of a slice from a DataFrame.\n",
      "Try using .loc[row_indexer,col_indexer] = value instead\n",
      "\n",
      "See the caveats in the documentation: http://pandas.pydata.org/pandas-docs/stable/user_guide/indexing.html#returning-a-view-versus-a-copy\n",
      "  self.obj[item] = s\n"
     ]
    }
   ],
   "source": [
    "numeric = ['RegistrationYear', 'Power', 'Kilometer']\n",
    "scaler = StandardScaler()\n",
    "scaler.fit(features_train[numeric])\n",
    "\n",
    "features_train[numeric] = scaler.transform(features_train[numeric])\n",
    "features_valid[numeric] = scaler.transform(features_valid[numeric])\n",
    "features_test[numeric] = scaler.transform(features_test[numeric])"
   ]
  },
  {
   "cell_type": "code",
   "execution_count": 21,
   "metadata": {},
   "outputs": [
    {
     "name": "stdout",
     "output_type": "stream",
     "text": [
      "rmse мера модели линейной регрессии на валидационной выборке: 3345.6585378738732\n",
      "Время обучения, сек: 0.048445701599121094\n",
      "Время предсказания, сек: 0.004539966583251953\n",
      "rmse мера модели линейной регрессии на тестовой выборке: 3393.34020384662\n"
     ]
    }
   ],
   "source": [
    "model_log = LinearRegression()# инициация модели линейной регрессии \n",
    "start_time5 = time.time()\n",
    "model_log.fit(features_train, target_train) # обучение модели на тренировочной выборке\n",
    "end_time5 = time.time() - start_time5\n",
    "\n",
    "start_time6 = time.time()\n",
    "predicted_log = model_log.predict(features_valid)\n",
    "end_time6 = time.time() - start_time6\n",
    "\n",
    "print(\"rmse мера модели линейной регрессии на валидационной выборке:\", mean_squared_error(target_valid, predicted_log)**0.5)\n",
    "print('Время обучения, сек:', end_time5)\n",
    "print('Время предсказания, сек:', end_time6)\n",
    "\n",
    "predicted_log_test = model_log.predict(features_test)\n",
    "print(\"rmse мера модели линейной регрессии на тестовой выборке:\", mean_squared_error(target_test, predicted_log_test)**0.5)"
   ]
  },
  {
   "cell_type": "code",
   "execution_count": 22,
   "metadata": {},
   "outputs": [
    {
     "name": "stdout",
     "output_type": "stream",
     "text": [
      "rmse модели решающего леса на валидационной выборке: 3543.6702091721554\n",
      "rmse мера модели решающего леса на тестовой выборке: 2108.5824541325214\n",
      "CPU times: user 2.54 s, sys: 0 ns, total: 2.54 s\n",
      "Wall time: 2.55 s\n"
     ]
    }
   ],
   "source": [
    "%%time\n",
    "best_model_tree = None\n",
    "best_result_tree = 0\n",
    "for depth in range(1, 10):\n",
    "\tmodel_tree = DecisionTreeRegressor(random_state=10000, max_depth=depth) # обучение модели с заданной глубиной дерева\n",
    "\tmodel_tree.fit(features_train, target_train) # обучение модели\n",
    "\tpredicted_tree = model_tree.predict(features_valid) # предсказания модели\n",
    "\tresult_tree = mean_squared_error(target_valid, predicted_tree)**0.5 #  качество модели\n",
    "\tif result_tree > best_result_tree:\n",
    "\t\tbest_model_tree = model_tree\n",
    "\t\tbest_result_tree = result_tree\n",
    "print(\"rmse модели решающего леса на валидационной выборке:\", best_result_tree)\n",
    "\n",
    "predicted_tree_test = model_tree.predict(features_test)\n",
    "print(\"rmse мера модели решающего леса на тестовой выборке:\", mean_squared_error(target_test, predicted_tree_test)**0.5)"
   ]
  },
  {
   "cell_type": "markdown",
   "metadata": {},
   "source": [
    "Произвольно выбраны две модели для сравнения. Проведена подготовка данных, скайлер (хоть он для линейной регрессии и не нужен). Для масштабирования выбран метод OrdinalEncoder не потому что он лучше подходит, а потому что он требует меньше времени на обработку, OHE слишком долгий."
   ]
  },
  {
   "cell_type": "markdown",
   "metadata": {},
   "source": [
    "## Анализ моделей"
   ]
  },
  {
   "cell_type": "markdown",
   "metadata": {},
   "source": [
    "Метрика rmse получена и время расчета определено. Методы градиентного бустинга CatBoost 1845, LightGBM 2567. Получается что метод CatBoost лучше, время его работы 152,7 сек, а время работы LightGBM 61,6 сек. Казалось бы очевидно какое время больше или меньше, но правильнее нужно смотреть на количество итераций. Если я правильно понял, то в первом методе их 250, а во втором 10, соответственно CatBoost намного быстрее. Важно также отметить что во всех методах время на обучение значительно больше времени предсказания, что логично впринципе.\n",
    "Далее я рассмотрел линейную регрессию и решающий лес, то что они считаются намного быстрее, это понятно и соответствует логике. "
   ]
  },
  {
   "cell_type": "code",
   "execution_count": null,
   "metadata": {},
   "outputs": [],
   "source": []
  }
 ],
 "metadata": {
  "ExecuteTimeLog": [
   {
    "duration": 1387,
    "start_time": "2021-06-08T20:37:18.875Z"
   },
   {
    "duration": 1285,
    "start_time": "2021-06-08T20:37:20.265Z"
   },
   {
    "duration": 646,
    "start_time": "2021-06-08T20:37:21.554Z"
   },
   {
    "duration": 903,
    "start_time": "2021-06-08T20:37:22.203Z"
   },
   {
    "duration": 45,
    "start_time": "2021-06-08T20:37:23.109Z"
   },
   {
    "duration": 111950,
    "start_time": "2021-06-08T20:37:23.157Z"
   },
   {
    "duration": 26,
    "start_time": "2021-06-08T20:39:15.109Z"
   },
   {
    "duration": 128,
    "start_time": "2021-06-08T20:39:15.137Z"
   },
   {
    "duration": 170,
    "start_time": "2021-06-08T20:39:15.269Z"
   },
   {
    "duration": 155410,
    "start_time": "2021-06-08T20:39:15.441Z"
   },
   {
    "duration": 255,
    "start_time": "2021-06-08T20:41:50.854Z"
   },
   {
    "duration": 190,
    "start_time": "2021-06-08T20:41:51.112Z"
   },
   {
    "duration": 455,
    "start_time": "2021-06-08T20:41:51.305Z"
   },
   {
    "duration": 478,
    "start_time": "2021-06-08T20:41:51.285Z"
   },
   {
    "duration": 13,
    "start_time": "2021-06-08T20:48:08.073Z"
   },
   {
    "duration": 19,
    "start_time": "2021-06-08T20:48:09.176Z"
   },
   {
    "duration": 48,
    "start_time": "2021-06-08T20:48:10.414Z"
   },
   {
    "duration": 64,
    "start_time": "2021-06-08T20:48:22.582Z"
   },
   {
    "duration": 197,
    "start_time": "2021-06-08T20:48:36.824Z"
   },
   {
    "duration": 49402,
    "start_time": "2021-06-08T20:48:38.899Z"
   },
   {
    "duration": 155231,
    "start_time": "2021-06-08T20:54:47.726Z"
   },
   {
    "duration": 157330,
    "start_time": "2021-06-08T20:58:32.139Z"
   },
   {
    "duration": 152330,
    "start_time": "2021-06-08T21:04:26.607Z"
   },
   {
    "duration": 273,
    "start_time": "2021-06-08T21:12:37.427Z"
   },
   {
    "duration": 5,
    "start_time": "2021-06-08T21:13:10.084Z"
   },
   {
    "duration": 152195,
    "start_time": "2021-06-08T21:14:33.015Z"
   },
   {
    "duration": 4,
    "start_time": "2021-06-08T21:18:50.064Z"
   },
   {
    "duration": 1480,
    "start_time": "2021-06-09T17:29:53.625Z"
   },
   {
    "duration": 1310,
    "start_time": "2021-06-09T17:29:55.110Z"
   },
   {
    "duration": 662,
    "start_time": "2021-06-09T17:29:56.424Z"
   },
   {
    "duration": 1177,
    "start_time": "2021-06-09T17:29:57.089Z"
   },
   {
    "duration": 63,
    "start_time": "2021-06-09T17:29:58.269Z"
   },
   {
    "duration": 118548,
    "start_time": "2021-06-09T17:29:58.335Z"
   },
   {
    "duration": 169,
    "start_time": "2021-06-09T17:31:56.885Z"
   },
   {
    "duration": 9,
    "start_time": "2021-06-09T17:31:57.058Z"
   },
   {
    "duration": 52,
    "start_time": "2021-06-09T17:31:57.070Z"
   },
   {
    "duration": 60,
    "start_time": "2021-06-09T17:31:57.125Z"
   },
   {
    "duration": 154741,
    "start_time": "2021-06-09T17:31:57.188Z"
   },
   {
    "duration": 6,
    "start_time": "2021-06-09T17:34:31.932Z"
   },
   {
    "duration": 42669,
    "start_time": "2021-06-09T17:34:31.940Z"
   },
   {
    "duration": 3,
    "start_time": "2021-06-09T17:35:14.612Z"
   },
   {
    "duration": 2254,
    "start_time": "2021-06-09T17:39:45.963Z"
   },
   {
    "duration": 2077,
    "start_time": "2021-06-09T17:40:08.239Z"
   },
   {
    "duration": 925,
    "start_time": "2021-06-09T18:00:25.257Z"
   },
   {
    "duration": 496,
    "start_time": "2021-06-09T18:16:07.122Z"
   },
   {
    "duration": 33,
    "start_time": "2021-06-09T18:16:17.370Z"
   },
   {
    "duration": 406,
    "start_time": "2021-06-09T18:16:23.230Z"
   },
   {
    "duration": 70,
    "start_time": "2021-06-09T18:16:40.797Z"
   },
   {
    "duration": 1575,
    "start_time": "2021-06-09T18:48:14.387Z"
   },
   {
    "duration": 1385,
    "start_time": "2021-06-09T18:48:15.965Z"
   },
   {
    "duration": 968,
    "start_time": "2021-06-09T18:48:17.354Z"
   },
   {
    "duration": 1080,
    "start_time": "2021-06-09T18:48:18.325Z"
   },
   {
    "duration": 53,
    "start_time": "2021-06-09T18:48:19.409Z"
   },
   {
    "duration": 77972,
    "start_time": "2021-06-09T18:48:19.466Z"
   },
   {
    "duration": 172,
    "start_time": "2021-06-09T18:49:37.440Z"
   },
   {
    "duration": 9,
    "start_time": "2021-06-09T18:49:37.615Z"
   },
   {
    "duration": 43,
    "start_time": "2021-06-09T18:49:37.628Z"
   },
   {
    "duration": 80,
    "start_time": "2021-06-09T18:49:37.673Z"
   },
   {
    "duration": 152686,
    "start_time": "2021-06-09T18:49:37.755Z"
   },
   {
    "duration": 6,
    "start_time": "2021-06-09T18:52:10.444Z"
   },
   {
    "duration": 61712,
    "start_time": "2021-06-09T18:52:10.510Z"
   },
   {
    "duration": 865,
    "start_time": "2021-06-09T18:53:12.225Z"
   },
   {
    "duration": 76,
    "start_time": "2021-06-09T18:53:13.094Z"
   },
   {
    "duration": 624,
    "start_time": "2021-06-09T18:53:13.172Z"
   },
   {
    "duration": 1049,
    "start_time": "2021-06-09T18:53:12.749Z"
   },
   {
    "duration": 89,
    "start_time": "2021-06-09T18:53:49.022Z"
   },
   {
    "duration": 259,
    "start_time": "2021-06-09T18:54:08.999Z"
   },
   {
    "duration": 276,
    "start_time": "2021-06-09T18:54:45.559Z"
   },
   {
    "duration": 2004,
    "start_time": "2021-06-09T18:55:35.315Z"
   },
   {
    "duration": 2045,
    "start_time": "2021-06-09T18:56:12.486Z"
   },
   {
    "duration": 93,
    "start_time": "2021-06-09T19:05:58.343Z"
   },
   {
    "duration": 2100,
    "start_time": "2021-06-09T19:06:44.602Z"
   },
   {
    "duration": 209,
    "start_time": "2021-06-09T19:07:12.602Z"
   },
   {
    "duration": 2007,
    "start_time": "2021-06-09T19:07:21.267Z"
   },
   {
    "duration": 1979,
    "start_time": "2021-06-09T19:18:05.059Z"
   },
   {
    "duration": 1927,
    "start_time": "2021-06-09T19:27:24.548Z"
   },
   {
    "duration": 1523,
    "start_time": "2021-06-13T07:54:17.706Z"
   },
   {
    "duration": 1265,
    "start_time": "2021-06-13T07:54:19.233Z"
   },
   {
    "duration": 652,
    "start_time": "2021-06-13T07:54:20.501Z"
   },
   {
    "duration": 934,
    "start_time": "2021-06-13T07:54:21.156Z"
   },
   {
    "duration": 66,
    "start_time": "2021-06-13T07:54:22.093Z"
   },
   {
    "duration": 69735,
    "start_time": "2021-06-13T07:54:22.162Z"
   },
   {
    "duration": 177,
    "start_time": "2021-06-13T07:55:31.900Z"
   },
   {
    "duration": 8,
    "start_time": "2021-06-13T07:55:32.080Z"
   },
   {
    "duration": 48,
    "start_time": "2021-06-13T07:55:32.090Z"
   },
   {
    "duration": 57,
    "start_time": "2021-06-13T07:55:32.140Z"
   },
   {
    "duration": 146339,
    "start_time": "2021-06-13T07:55:32.199Z"
   },
   {
    "duration": 5,
    "start_time": "2021-06-13T07:57:58.540Z"
   },
   {
    "duration": 38077,
    "start_time": "2021-06-13T07:57:58.547Z"
   },
   {
    "duration": 793,
    "start_time": "2021-06-13T07:58:36.627Z"
   },
   {
    "duration": 73,
    "start_time": "2021-06-13T07:58:37.425Z"
   },
   {
    "duration": 227,
    "start_time": "2021-06-13T07:58:37.501Z"
   },
   {
    "duration": 2031,
    "start_time": "2021-06-13T07:58:37.731Z"
   },
   {
    "duration": 1831,
    "start_time": "2021-06-13T08:39:20.254Z"
   },
   {
    "duration": 1811,
    "start_time": "2021-06-13T08:39:22.088Z"
   },
   {
    "duration": 671,
    "start_time": "2021-06-13T08:39:23.902Z"
   },
   {
    "duration": 950,
    "start_time": "2021-06-13T08:39:24.575Z"
   },
   {
    "duration": 50,
    "start_time": "2021-06-13T08:39:25.528Z"
   },
   {
    "duration": 69353,
    "start_time": "2021-06-13T08:39:25.581Z"
   },
   {
    "duration": 178,
    "start_time": "2021-06-13T08:40:34.936Z"
   },
   {
    "duration": 12,
    "start_time": "2021-06-13T08:40:35.118Z"
   },
   {
    "duration": 35,
    "start_time": "2021-06-13T08:40:35.133Z"
   },
   {
    "duration": 96,
    "start_time": "2021-06-13T08:40:35.170Z"
   },
   {
    "duration": 147468,
    "start_time": "2021-06-13T08:40:35.268Z"
   },
   {
    "duration": 5,
    "start_time": "2021-06-13T08:43:02.738Z"
   },
   {
    "duration": 42494,
    "start_time": "2021-06-13T08:43:02.745Z"
   },
   {
    "duration": 885,
    "start_time": "2021-06-13T08:43:45.241Z"
   },
   {
    "duration": 69,
    "start_time": "2021-06-13T08:43:46.129Z"
   },
   {
    "duration": 125,
    "start_time": "2021-06-13T08:43:46.200Z"
   },
   {
    "duration": 2076,
    "start_time": "2021-06-13T08:43:46.328Z"
   },
   {
    "duration": 31,
    "start_time": "2021-06-13T09:15:29.166Z"
   },
   {
    "duration": 28,
    "start_time": "2021-06-13T09:16:32.489Z"
   },
   {
    "duration": 1334,
    "start_time": "2021-06-14T06:53:32.486Z"
   },
   {
    "duration": 1159,
    "start_time": "2021-06-14T06:53:33.822Z"
   },
   {
    "duration": 29,
    "start_time": "2021-06-14T06:53:34.984Z"
   },
   {
    "duration": 628,
    "start_time": "2021-06-14T06:53:35.016Z"
   },
   {
    "duration": 878,
    "start_time": "2021-06-14T06:53:35.655Z"
   },
   {
    "duration": 56,
    "start_time": "2021-06-14T06:53:36.536Z"
   },
   {
    "duration": 64753,
    "start_time": "2021-06-14T06:53:36.594Z"
   },
   {
    "duration": 145,
    "start_time": "2021-06-14T06:54:41.355Z"
   },
   {
    "duration": 9,
    "start_time": "2021-06-14T06:54:41.502Z"
   },
   {
    "duration": 52,
    "start_time": "2021-06-14T06:54:41.513Z"
   },
   {
    "duration": 55,
    "start_time": "2021-06-14T06:54:41.567Z"
   },
   {
    "duration": 150635,
    "start_time": "2021-06-14T06:54:41.625Z"
   },
   {
    "duration": 6,
    "start_time": "2021-06-14T06:57:12.263Z"
   },
   {
    "duration": 2186,
    "start_time": "2021-06-14T06:57:12.271Z"
   },
   {
    "duration": 1312,
    "start_time": "2021-06-14T06:57:14.459Z"
   },
   {
    "duration": -54,
    "start_time": "2021-06-14T06:57:15.828Z"
   },
   {
    "duration": -59,
    "start_time": "2021-06-14T06:57:15.834Z"
   },
   {
    "duration": -61,
    "start_time": "2021-06-14T06:57:15.837Z"
   },
   {
    "duration": 286,
    "start_time": "2021-06-14T07:07:28.350Z"
   },
   {
    "duration": 251,
    "start_time": "2021-06-14T07:13:40.163Z"
   },
   {
    "duration": 791,
    "start_time": "2021-06-14T07:16:53.470Z"
   },
   {
    "duration": 67,
    "start_time": "2021-06-14T07:17:08.506Z"
   },
   {
    "duration": 254,
    "start_time": "2021-06-14T07:17:10.228Z"
   },
   {
    "duration": 803,
    "start_time": "2021-06-14T07:18:19.434Z"
   },
   {
    "duration": 638,
    "start_time": "2021-06-14T07:19:00.262Z"
   },
   {
    "duration": 39,
    "start_time": "2021-06-14T07:19:08.947Z"
   },
   {
    "duration": 278,
    "start_time": "2021-06-14T07:19:09.645Z"
   },
   {
    "duration": 180,
    "start_time": "2021-06-14T07:19:10.230Z"
   },
   {
    "duration": 15,
    "start_time": "2021-06-14T07:20:59.139Z"
   },
   {
    "duration": 614,
    "start_time": "2021-06-14T07:22:58.213Z"
   },
   {
    "duration": 15,
    "start_time": "2021-06-14T07:23:00.928Z"
   },
   {
    "duration": 74,
    "start_time": "2021-06-14T07:23:36.817Z"
   },
   {
    "duration": 263,
    "start_time": "2021-06-14T07:23:40.790Z"
   },
   {
    "duration": 179,
    "start_time": "2021-06-14T07:23:42.184Z"
   },
   {
    "duration": 1365,
    "start_time": "2021-06-14T07:27:08.126Z"
   },
   {
    "duration": 1170,
    "start_time": "2021-06-14T07:27:09.493Z"
   },
   {
    "duration": 30,
    "start_time": "2021-06-14T07:27:10.666Z"
   },
   {
    "duration": 627,
    "start_time": "2021-06-14T07:27:10.699Z"
   },
   {
    "duration": 885,
    "start_time": "2021-06-14T07:27:11.329Z"
   },
   {
    "duration": 67,
    "start_time": "2021-06-14T07:27:12.216Z"
   },
   {
    "duration": 64284,
    "start_time": "2021-06-14T07:27:12.285Z"
   },
   {
    "duration": 158,
    "start_time": "2021-06-14T07:28:16.574Z"
   },
   {
    "duration": 22,
    "start_time": "2021-06-14T07:28:16.735Z"
   },
   {
    "duration": 32,
    "start_time": "2021-06-14T07:28:16.760Z"
   },
   {
    "duration": 80,
    "start_time": "2021-06-14T07:28:16.795Z"
   },
   {
    "duration": 151488,
    "start_time": "2021-06-14T07:28:16.877Z"
   },
   {
    "duration": 7,
    "start_time": "2021-06-14T07:30:48.367Z"
   },
   {
    "duration": 9395,
    "start_time": "2021-06-14T07:30:48.377Z"
   },
   {
    "duration": 729,
    "start_time": "2021-06-14T07:30:57.775Z"
   },
   {
    "duration": 15,
    "start_time": "2021-06-14T07:30:58.506Z"
   },
   {
    "duration": 58,
    "start_time": "2021-06-14T07:30:58.524Z"
   },
   {
    "duration": 397,
    "start_time": "2021-06-14T07:30:58.584Z"
   },
   {
    "duration": 629,
    "start_time": "2021-06-14T07:30:58.355Z"
   },
   {
    "duration": 265,
    "start_time": "2021-06-14T07:34:27.341Z"
   },
   {
    "duration": 16,
    "start_time": "2021-06-14T07:34:34.195Z"
   },
   {
    "duration": 1314,
    "start_time": "2021-06-14T10:06:01.607Z"
   },
   {
    "duration": 1187,
    "start_time": "2021-06-14T10:06:02.924Z"
   },
   {
    "duration": 40,
    "start_time": "2021-06-14T10:06:04.115Z"
   },
   {
    "duration": 636,
    "start_time": "2021-06-14T10:06:04.158Z"
   },
   {
    "duration": 1266,
    "start_time": "2021-06-14T10:06:04.797Z"
   },
   {
    "duration": 50,
    "start_time": "2021-06-14T10:06:06.065Z"
   },
   {
    "duration": 66078,
    "start_time": "2021-06-14T10:06:06.117Z"
   },
   {
    "duration": 159,
    "start_time": "2021-06-14T10:07:12.198Z"
   },
   {
    "duration": 8,
    "start_time": "2021-06-14T10:07:12.359Z"
   },
   {
    "duration": 31,
    "start_time": "2021-06-14T10:07:12.370Z"
   },
   {
    "duration": 83,
    "start_time": "2021-06-14T10:07:12.403Z"
   },
   {
    "duration": 151679,
    "start_time": "2021-06-14T10:07:12.489Z"
   },
   {
    "duration": 4,
    "start_time": "2021-06-14T10:09:44.171Z"
   },
   {
    "duration": 21086,
    "start_time": "2021-06-14T10:09:44.178Z"
   },
   {
    "duration": 6302,
    "start_time": "2021-06-14T10:10:05.266Z"
   },
   {
    "duration": 474,
    "start_time": "2021-06-14T10:10:11.096Z"
   },
   {
    "duration": 473,
    "start_time": "2021-06-14T10:10:11.099Z"
   },
   {
    "duration": 473,
    "start_time": "2021-06-14T10:10:11.102Z"
   },
   {
    "duration": 472,
    "start_time": "2021-06-14T10:10:11.105Z"
   },
   {
    "duration": 1284,
    "start_time": "2021-06-14T10:11:00.871Z"
   },
   {
    "duration": 1179,
    "start_time": "2021-06-14T10:11:17.125Z"
   },
   {
    "duration": 236,
    "start_time": "2021-06-14T10:11:21.679Z"
   },
   {
    "duration": 19,
    "start_time": "2021-06-14T10:11:27.577Z"
   },
   {
    "duration": 157,
    "start_time": "2021-06-14T10:11:35.894Z"
   },
   {
    "duration": 72,
    "start_time": "2021-06-14T10:11:37.297Z"
   },
   {
    "duration": 2554,
    "start_time": "2021-06-14T10:11:43.756Z"
   }
  ],
  "kernelspec": {
   "display_name": "Python 3",
   "language": "python",
   "name": "python3"
  },
  "language_info": {
   "codemirror_mode": {
    "name": "ipython",
    "version": 3
   },
   "file_extension": ".py",
   "mimetype": "text/x-python",
   "name": "python",
   "nbconvert_exporter": "python",
   "pygments_lexer": "ipython3",
   "version": "3.8.5"
  },
  "toc": {
   "base_numbering": 1,
   "nav_menu": {},
   "number_sections": true,
   "sideBar": true,
   "skip_h1_title": true,
   "title_cell": "Table of Contents",
   "title_sidebar": "Contents",
   "toc_cell": false,
   "toc_position": {},
   "toc_section_display": true,
   "toc_window_display": true
  }
 },
 "nbformat": 4,
 "nbformat_minor": 2
}
