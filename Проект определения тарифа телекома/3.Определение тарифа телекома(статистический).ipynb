{
 "cells": [
  {
   "cell_type": "markdown",
   "metadata": {
    "toc": true
   },
   "source": [
    "<h1>Содержание<span class=\"tocSkip\"></span></h1>\n",
    "<div class=\"toc\"><ul class=\"toc-item\"><li><ul class=\"toc-item\"><li><span><a href=\"#Вывод:\" data-toc-modified-id=\"Вывод:-0.1\">Вывод:</a></span></li></ul></li><li><span><a href=\"#Шаг-2.-Подготовка-данных\" data-toc-modified-id=\"Шаг-2.-Подготовка-данных-1\">Шаг 2. Подготовка данных</a></span><ul class=\"toc-item\"><li><span><a href=\"#Проверка-на-дубликаты-и-замена-пропущенных-значений\" data-toc-modified-id=\"Проверка-на-дубликаты-и-замена-пропущенных-значений-1.1\">Проверка на дубликаты и замена пропущенных значений</a></span></li><li><span><a href=\"#Проверка-значений-времени-звонков-и-интернета-равных-0\" data-toc-modified-id=\"Проверка-значений-времени-звонков-и-интернета-равных-0-1.2\">Проверка значений времени звонков и интернета равных 0</a></span></li><li><span><a href=\"#Вывод:\" data-toc-modified-id=\"Вывод:-1.3\">Вывод:</a></span></li><li><span><a href=\"#Выделение-столбика-с-месяцем\" data-toc-modified-id=\"Выделение-столбика-с-месяцем-1.4\">Выделение столбика с месяцем</a></span></li><li><span><a href=\"#Расчет-количества-звонков,-интернета-и-сообщений-по-месяцам-и-объединение-в-одну-таблицу\" data-toc-modified-id=\"Расчет-количества-звонков,-интернета-и-сообщений-по-месяцам-и-объединение-в-одну-таблицу-1.5\">Расчет количества звонков, интернета и сообщений по месяцам и объединение в одну таблицу</a></span></li><li><span><a href=\"#Вывод:\" data-toc-modified-id=\"Вывод:-1.6\">Вывод:</a></span></li><li><span><a href=\"#Расчет-помесячных-общих-расходов\" data-toc-modified-id=\"Расчет-помесячных-общих-расходов-1.7\">Расчет помесячных общих расходов</a></span></li><li><span><a href=\"#Вывод\" data-toc-modified-id=\"Вывод-1.8\">Вывод</a></span></li></ul></li><li><span><a href=\"#Шаг-3.-Анализ-данных\" data-toc-modified-id=\"Шаг-3.-Анализ-данных-2\">Шаг 3. Анализ данных</a></span><ul class=\"toc-item\"><li><span><a href=\"#Вывод:\" data-toc-modified-id=\"Вывод:-2.1\">Вывод:</a></span></li></ul></li><li><span><a href=\"#Шаг-4.--Гипотезы\" data-toc-modified-id=\"Шаг-4.--Гипотезы-3\">Шаг 4.  Гипотезы</a></span><ul class=\"toc-item\"><li><span><a href=\"#Формулирование-первой-гипотезы\" data-toc-modified-id=\"Формулирование-первой-гипотезы-3.1\">Формулирование первой гипотезы</a></span></li><li><span><a href=\"#Вывод:\" data-toc-modified-id=\"Вывод:-3.2\">Вывод:</a></span></li><li><span><a href=\"#Формулирование-воторой-гипотезы\" data-toc-modified-id=\"Формулирование-воторой-гипотезы-3.3\">Формулирование воторой гипотезы</a></span></li><li><span><a href=\"#Вывод:\" data-toc-modified-id=\"Вывод:-3.4\">Вывод:</a></span></li></ul></li><li><span><a href=\"#Шаг-5.-Общий-вывод\" data-toc-modified-id=\"Шаг-5.-Общий-вывод-4\">Шаг 5. Общий вывод</a></span></li></ul></div>"
   ]
  },
  {
   "cell_type": "code",
   "execution_count": 1,
   "metadata": {},
   "outputs": [
    {
     "data": {
      "text/html": [
       "<div>\n",
       "<style scoped>\n",
       "    .dataframe tbody tr th:only-of-type {\n",
       "        vertical-align: middle;\n",
       "    }\n",
       "\n",
       "    .dataframe tbody tr th {\n",
       "        vertical-align: top;\n",
       "    }\n",
       "\n",
       "    .dataframe thead th {\n",
       "        text-align: right;\n",
       "    }\n",
       "</style>\n",
       "<table border=\"1\" class=\"dataframe\">\n",
       "  <thead>\n",
       "    <tr style=\"text-align: right;\">\n",
       "      <th></th>\n",
       "      <th>id</th>\n",
       "      <th>call_date</th>\n",
       "      <th>duration</th>\n",
       "      <th>user_id</th>\n",
       "    </tr>\n",
       "  </thead>\n",
       "  <tbody>\n",
       "    <tr>\n",
       "      <th>0</th>\n",
       "      <td>1000_0</td>\n",
       "      <td>2018-07-25</td>\n",
       "      <td>0.00</td>\n",
       "      <td>1000</td>\n",
       "    </tr>\n",
       "    <tr>\n",
       "      <th>1</th>\n",
       "      <td>1000_1</td>\n",
       "      <td>2018-08-17</td>\n",
       "      <td>0.00</td>\n",
       "      <td>1000</td>\n",
       "    </tr>\n",
       "    <tr>\n",
       "      <th>2</th>\n",
       "      <td>1000_2</td>\n",
       "      <td>2018-06-11</td>\n",
       "      <td>2.85</td>\n",
       "      <td>1000</td>\n",
       "    </tr>\n",
       "    <tr>\n",
       "      <th>3</th>\n",
       "      <td>1000_3</td>\n",
       "      <td>2018-09-21</td>\n",
       "      <td>13.80</td>\n",
       "      <td>1000</td>\n",
       "    </tr>\n",
       "    <tr>\n",
       "      <th>4</th>\n",
       "      <td>1000_4</td>\n",
       "      <td>2018-12-15</td>\n",
       "      <td>5.18</td>\n",
       "      <td>1000</td>\n",
       "    </tr>\n",
       "  </tbody>\n",
       "</table>\n",
       "</div>"
      ],
      "text/plain": [
       "       id   call_date  duration  user_id\n",
       "0  1000_0  2018-07-25      0.00     1000\n",
       "1  1000_1  2018-08-17      0.00     1000\n",
       "2  1000_2  2018-06-11      2.85     1000\n",
       "3  1000_3  2018-09-21     13.80     1000\n",
       "4  1000_4  2018-12-15      5.18     1000"
      ]
     },
     "metadata": {},
     "output_type": "display_data"
    },
    {
     "name": "stdout",
     "output_type": "stream",
     "text": [
      "<class 'pandas.core.frame.DataFrame'>\n",
      "RangeIndex: 202607 entries, 0 to 202606\n",
      "Data columns (total 4 columns):\n",
      " #   Column     Non-Null Count   Dtype  \n",
      "---  ------     --------------   -----  \n",
      " 0   id         202607 non-null  object \n",
      " 1   call_date  202607 non-null  object \n",
      " 2   duration   202607 non-null  float64\n",
      " 3   user_id    202607 non-null  int64  \n",
      "dtypes: float64(1), int64(1), object(2)\n",
      "memory usage: 6.2+ MB\n"
     ]
    },
    {
     "data": {
      "text/html": [
       "<div>\n",
       "<style scoped>\n",
       "    .dataframe tbody tr th:only-of-type {\n",
       "        vertical-align: middle;\n",
       "    }\n",
       "\n",
       "    .dataframe tbody tr th {\n",
       "        vertical-align: top;\n",
       "    }\n",
       "\n",
       "    .dataframe thead th {\n",
       "        text-align: right;\n",
       "    }\n",
       "</style>\n",
       "<table border=\"1\" class=\"dataframe\">\n",
       "  <thead>\n",
       "    <tr style=\"text-align: right;\">\n",
       "      <th></th>\n",
       "      <th>Unnamed: 0</th>\n",
       "      <th>id</th>\n",
       "      <th>mb_used</th>\n",
       "      <th>session_date</th>\n",
       "      <th>user_id</th>\n",
       "    </tr>\n",
       "  </thead>\n",
       "  <tbody>\n",
       "    <tr>\n",
       "      <th>0</th>\n",
       "      <td>0</td>\n",
       "      <td>1000_0</td>\n",
       "      <td>112.95</td>\n",
       "      <td>2018-11-25</td>\n",
       "      <td>1000</td>\n",
       "    </tr>\n",
       "    <tr>\n",
       "      <th>1</th>\n",
       "      <td>1</td>\n",
       "      <td>1000_1</td>\n",
       "      <td>1052.81</td>\n",
       "      <td>2018-09-07</td>\n",
       "      <td>1000</td>\n",
       "    </tr>\n",
       "    <tr>\n",
       "      <th>2</th>\n",
       "      <td>2</td>\n",
       "      <td>1000_2</td>\n",
       "      <td>1197.26</td>\n",
       "      <td>2018-06-25</td>\n",
       "      <td>1000</td>\n",
       "    </tr>\n",
       "    <tr>\n",
       "      <th>3</th>\n",
       "      <td>3</td>\n",
       "      <td>1000_3</td>\n",
       "      <td>550.27</td>\n",
       "      <td>2018-08-22</td>\n",
       "      <td>1000</td>\n",
       "    </tr>\n",
       "    <tr>\n",
       "      <th>4</th>\n",
       "      <td>4</td>\n",
       "      <td>1000_4</td>\n",
       "      <td>302.56</td>\n",
       "      <td>2018-09-24</td>\n",
       "      <td>1000</td>\n",
       "    </tr>\n",
       "  </tbody>\n",
       "</table>\n",
       "</div>"
      ],
      "text/plain": [
       "   Unnamed: 0      id  mb_used session_date  user_id\n",
       "0           0  1000_0   112.95   2018-11-25     1000\n",
       "1           1  1000_1  1052.81   2018-09-07     1000\n",
       "2           2  1000_2  1197.26   2018-06-25     1000\n",
       "3           3  1000_3   550.27   2018-08-22     1000\n",
       "4           4  1000_4   302.56   2018-09-24     1000"
      ]
     },
     "metadata": {},
     "output_type": "display_data"
    },
    {
     "name": "stdout",
     "output_type": "stream",
     "text": [
      "<class 'pandas.core.frame.DataFrame'>\n",
      "RangeIndex: 149396 entries, 0 to 149395\n",
      "Data columns (total 5 columns):\n",
      " #   Column        Non-Null Count   Dtype  \n",
      "---  ------        --------------   -----  \n",
      " 0   Unnamed: 0    149396 non-null  int64  \n",
      " 1   id            149396 non-null  object \n",
      " 2   mb_used       149396 non-null  float64\n",
      " 3   session_date  149396 non-null  object \n",
      " 4   user_id       149396 non-null  int64  \n",
      "dtypes: float64(1), int64(2), object(2)\n",
      "memory usage: 5.7+ MB\n"
     ]
    },
    {
     "data": {
      "text/html": [
       "<div>\n",
       "<style scoped>\n",
       "    .dataframe tbody tr th:only-of-type {\n",
       "        vertical-align: middle;\n",
       "    }\n",
       "\n",
       "    .dataframe tbody tr th {\n",
       "        vertical-align: top;\n",
       "    }\n",
       "\n",
       "    .dataframe thead th {\n",
       "        text-align: right;\n",
       "    }\n",
       "</style>\n",
       "<table border=\"1\" class=\"dataframe\">\n",
       "  <thead>\n",
       "    <tr style=\"text-align: right;\">\n",
       "      <th></th>\n",
       "      <th>id</th>\n",
       "      <th>message_date</th>\n",
       "      <th>user_id</th>\n",
       "    </tr>\n",
       "  </thead>\n",
       "  <tbody>\n",
       "    <tr>\n",
       "      <th>0</th>\n",
       "      <td>1000_0</td>\n",
       "      <td>2018-06-27</td>\n",
       "      <td>1000</td>\n",
       "    </tr>\n",
       "    <tr>\n",
       "      <th>1</th>\n",
       "      <td>1000_1</td>\n",
       "      <td>2018-10-08</td>\n",
       "      <td>1000</td>\n",
       "    </tr>\n",
       "    <tr>\n",
       "      <th>2</th>\n",
       "      <td>1000_2</td>\n",
       "      <td>2018-08-04</td>\n",
       "      <td>1000</td>\n",
       "    </tr>\n",
       "    <tr>\n",
       "      <th>3</th>\n",
       "      <td>1000_3</td>\n",
       "      <td>2018-06-16</td>\n",
       "      <td>1000</td>\n",
       "    </tr>\n",
       "    <tr>\n",
       "      <th>4</th>\n",
       "      <td>1000_4</td>\n",
       "      <td>2018-12-05</td>\n",
       "      <td>1000</td>\n",
       "    </tr>\n",
       "  </tbody>\n",
       "</table>\n",
       "</div>"
      ],
      "text/plain": [
       "       id message_date  user_id\n",
       "0  1000_0   2018-06-27     1000\n",
       "1  1000_1   2018-10-08     1000\n",
       "2  1000_2   2018-08-04     1000\n",
       "3  1000_3   2018-06-16     1000\n",
       "4  1000_4   2018-12-05     1000"
      ]
     },
     "metadata": {},
     "output_type": "display_data"
    },
    {
     "name": "stdout",
     "output_type": "stream",
     "text": [
      "<class 'pandas.core.frame.DataFrame'>\n",
      "RangeIndex: 123036 entries, 0 to 123035\n",
      "Data columns (total 3 columns):\n",
      " #   Column        Non-Null Count   Dtype \n",
      "---  ------        --------------   ----- \n",
      " 0   id            123036 non-null  object\n",
      " 1   message_date  123036 non-null  object\n",
      " 2   user_id       123036 non-null  int64 \n",
      "dtypes: int64(1), object(2)\n",
      "memory usage: 2.8+ MB\n"
     ]
    },
    {
     "data": {
      "text/html": [
       "<div>\n",
       "<style scoped>\n",
       "    .dataframe tbody tr th:only-of-type {\n",
       "        vertical-align: middle;\n",
       "    }\n",
       "\n",
       "    .dataframe tbody tr th {\n",
       "        vertical-align: top;\n",
       "    }\n",
       "\n",
       "    .dataframe thead th {\n",
       "        text-align: right;\n",
       "    }\n",
       "</style>\n",
       "<table border=\"1\" class=\"dataframe\">\n",
       "  <thead>\n",
       "    <tr style=\"text-align: right;\">\n",
       "      <th></th>\n",
       "      <th>messages_included</th>\n",
       "      <th>mb_per_month_included</th>\n",
       "      <th>minutes_included</th>\n",
       "      <th>rub_monthly_fee</th>\n",
       "      <th>rub_per_gb</th>\n",
       "      <th>rub_per_message</th>\n",
       "      <th>rub_per_minute</th>\n",
       "      <th>tariff_name</th>\n",
       "    </tr>\n",
       "  </thead>\n",
       "  <tbody>\n",
       "    <tr>\n",
       "      <th>0</th>\n",
       "      <td>50</td>\n",
       "      <td>15360</td>\n",
       "      <td>500</td>\n",
       "      <td>550</td>\n",
       "      <td>200</td>\n",
       "      <td>3</td>\n",
       "      <td>3</td>\n",
       "      <td>smart</td>\n",
       "    </tr>\n",
       "    <tr>\n",
       "      <th>1</th>\n",
       "      <td>1000</td>\n",
       "      <td>30720</td>\n",
       "      <td>3000</td>\n",
       "      <td>1950</td>\n",
       "      <td>150</td>\n",
       "      <td>1</td>\n",
       "      <td>1</td>\n",
       "      <td>ultra</td>\n",
       "    </tr>\n",
       "  </tbody>\n",
       "</table>\n",
       "</div>"
      ],
      "text/plain": [
       "   messages_included  mb_per_month_included  minutes_included  \\\n",
       "0                 50                  15360               500   \n",
       "1               1000                  30720              3000   \n",
       "\n",
       "   rub_monthly_fee  rub_per_gb  rub_per_message  rub_per_minute tariff_name  \n",
       "0              550         200                3               3       smart  \n",
       "1             1950         150                1               1       ultra  "
      ]
     },
     "metadata": {},
     "output_type": "display_data"
    },
    {
     "name": "stdout",
     "output_type": "stream",
     "text": [
      "<class 'pandas.core.frame.DataFrame'>\n",
      "RangeIndex: 2 entries, 0 to 1\n",
      "Data columns (total 8 columns):\n",
      " #   Column                 Non-Null Count  Dtype \n",
      "---  ------                 --------------  ----- \n",
      " 0   messages_included      2 non-null      int64 \n",
      " 1   mb_per_month_included  2 non-null      int64 \n",
      " 2   minutes_included       2 non-null      int64 \n",
      " 3   rub_monthly_fee        2 non-null      int64 \n",
      " 4   rub_per_gb             2 non-null      int64 \n",
      " 5   rub_per_message        2 non-null      int64 \n",
      " 6   rub_per_minute         2 non-null      int64 \n",
      " 7   tariff_name            2 non-null      object\n",
      "dtypes: int64(7), object(1)\n",
      "memory usage: 256.0+ bytes\n"
     ]
    },
    {
     "data": {
      "text/html": [
       "<div>\n",
       "<style scoped>\n",
       "    .dataframe tbody tr th:only-of-type {\n",
       "        vertical-align: middle;\n",
       "    }\n",
       "\n",
       "    .dataframe tbody tr th {\n",
       "        vertical-align: top;\n",
       "    }\n",
       "\n",
       "    .dataframe thead th {\n",
       "        text-align: right;\n",
       "    }\n",
       "</style>\n",
       "<table border=\"1\" class=\"dataframe\">\n",
       "  <thead>\n",
       "    <tr style=\"text-align: right;\">\n",
       "      <th></th>\n",
       "      <th>user_id</th>\n",
       "      <th>age</th>\n",
       "      <th>churn_date</th>\n",
       "      <th>city</th>\n",
       "      <th>first_name</th>\n",
       "      <th>last_name</th>\n",
       "      <th>reg_date</th>\n",
       "      <th>tariff</th>\n",
       "    </tr>\n",
       "  </thead>\n",
       "  <tbody>\n",
       "    <tr>\n",
       "      <th>0</th>\n",
       "      <td>1000</td>\n",
       "      <td>52</td>\n",
       "      <td>NaN</td>\n",
       "      <td>Краснодар</td>\n",
       "      <td>Рафаил</td>\n",
       "      <td>Верещагин</td>\n",
       "      <td>2018-05-25</td>\n",
       "      <td>ultra</td>\n",
       "    </tr>\n",
       "    <tr>\n",
       "      <th>1</th>\n",
       "      <td>1001</td>\n",
       "      <td>41</td>\n",
       "      <td>NaN</td>\n",
       "      <td>Москва</td>\n",
       "      <td>Иван</td>\n",
       "      <td>Ежов</td>\n",
       "      <td>2018-11-01</td>\n",
       "      <td>smart</td>\n",
       "    </tr>\n",
       "    <tr>\n",
       "      <th>2</th>\n",
       "      <td>1002</td>\n",
       "      <td>59</td>\n",
       "      <td>NaN</td>\n",
       "      <td>Стерлитамак</td>\n",
       "      <td>Евгений</td>\n",
       "      <td>Абрамович</td>\n",
       "      <td>2018-06-17</td>\n",
       "      <td>smart</td>\n",
       "    </tr>\n",
       "    <tr>\n",
       "      <th>3</th>\n",
       "      <td>1003</td>\n",
       "      <td>23</td>\n",
       "      <td>NaN</td>\n",
       "      <td>Москва</td>\n",
       "      <td>Белла</td>\n",
       "      <td>Белякова</td>\n",
       "      <td>2018-08-17</td>\n",
       "      <td>ultra</td>\n",
       "    </tr>\n",
       "    <tr>\n",
       "      <th>4</th>\n",
       "      <td>1004</td>\n",
       "      <td>68</td>\n",
       "      <td>NaN</td>\n",
       "      <td>Новокузнецк</td>\n",
       "      <td>Татьяна</td>\n",
       "      <td>Авдеенко</td>\n",
       "      <td>2018-05-14</td>\n",
       "      <td>ultra</td>\n",
       "    </tr>\n",
       "  </tbody>\n",
       "</table>\n",
       "</div>"
      ],
      "text/plain": [
       "   user_id  age churn_date         city first_name  last_name    reg_date  \\\n",
       "0     1000   52        NaN    Краснодар     Рафаил  Верещагин  2018-05-25   \n",
       "1     1001   41        NaN       Москва       Иван       Ежов  2018-11-01   \n",
       "2     1002   59        NaN  Стерлитамак    Евгений  Абрамович  2018-06-17   \n",
       "3     1003   23        NaN       Москва      Белла   Белякова  2018-08-17   \n",
       "4     1004   68        NaN  Новокузнецк    Татьяна   Авдеенко  2018-05-14   \n",
       "\n",
       "  tariff  \n",
       "0  ultra  \n",
       "1  smart  \n",
       "2  smart  \n",
       "3  ultra  \n",
       "4  ultra  "
      ]
     },
     "metadata": {},
     "output_type": "display_data"
    },
    {
     "name": "stdout",
     "output_type": "stream",
     "text": [
      "<class 'pandas.core.frame.DataFrame'>\n",
      "RangeIndex: 500 entries, 0 to 499\n",
      "Data columns (total 8 columns):\n",
      " #   Column      Non-Null Count  Dtype \n",
      "---  ------      --------------  ----- \n",
      " 0   user_id     500 non-null    int64 \n",
      " 1   age         500 non-null    int64 \n",
      " 2   churn_date  38 non-null     object\n",
      " 3   city        500 non-null    object\n",
      " 4   first_name  500 non-null    object\n",
      " 5   last_name   500 non-null    object\n",
      " 6   reg_date    500 non-null    object\n",
      " 7   tariff      500 non-null    object\n",
      "dtypes: int64(2), object(6)\n",
      "memory usage: 31.4+ KB\n"
     ]
    },
    {
     "data": {
      "text/plain": [
       "array(['Краснодар', 'Москва', 'Стерлитамак', 'Новокузнецк',\n",
       "       'Набережные Челны', 'Ульяновск', 'Челябинск', 'Пермь', 'Тюмень',\n",
       "       'Самара', 'Санкт-Петербург', 'Иваново', 'Чебоксары', 'Омск', 'Уфа',\n",
       "       'Томск', 'Чита', 'Мурманск', 'Петрозаводск', 'Тверь',\n",
       "       'Екатеринбург', 'Махачкала', 'Вологда', 'Череповец', 'Ярославль',\n",
       "       'Сочи', 'Хабаровск', 'Ставрополь', 'Рязань', 'Улан-Удэ', 'Тула',\n",
       "       'Саратов', 'Ростов-на-Дону', 'Казань', 'Иркутск', 'Курск',\n",
       "       'Калуга', 'Якутск', 'Астрахань', 'Химки', 'Владикавказ',\n",
       "       'Волгоград', 'Саранск', 'Ижевск', 'Новосибирск', 'Брянск',\n",
       "       'Тольятти', 'Нижний Тагил', 'Орёл', 'Белгород', 'Воронеж',\n",
       "       'Волжский', 'Курган', 'Барнаул', 'Красноярск', 'Архангельск',\n",
       "       'Липецк', 'Кемерово', 'Киров', 'Сургут', 'Пенза', 'Магнитогорск',\n",
       "       'Нижний Новгород', 'Кострома', 'Владивосток', 'Тамбов', 'Балашиха',\n",
       "       'Севастополь', 'Калининград', 'Оренбург', 'Смоленск',\n",
       "       'Нижневартовск', 'Владимир', 'Новороссийск', 'Грозный', 'Подольск'],\n",
       "      dtype=object)"
      ]
     },
     "execution_count": 1,
     "metadata": {},
     "output_type": "execute_result"
    }
   ],
   "source": [
    "import pandas as pd\n",
    "import matplotlib.pyplot as plt \n",
    "import numpy as np\n",
    "from IPython.display import display\n",
    "from scipy import stats as st\n",
    "\n",
    "calls = pd.read_csv(r'C:\\Users\\user\\Desktop\\Для проектов\\calls.csv')#Общая информация о звонках\n",
    "display(calls.head())\n",
    "calls.info()\n",
    "\n",
    "internet = pd.read_csv(r'C:\\Users\\user\\Desktop\\Для проектов\\internet.csv')#Общая информация об интернете\n",
    "display(internet.head())\n",
    "internet.info()\n",
    "\n",
    "messages = pd.read_csv(r'C:\\Users\\user\\Desktop\\Для проектов\\messages.csv')#Общая информация о сообщениях\n",
    "display(messages.head())\n",
    "messages.info()\n",
    "\n",
    "tariffs = pd.read_csv(r'C:\\Users\\user\\Desktop\\Для проектов\\tariffs.csv')#Общая информация о тарифах\n",
    "display(tariffs.head())\n",
    "tariffs.info()\n",
    "\n",
    "users = pd.read_csv(r'C:\\Users\\user\\Desktop\\Для проектов\\users.csv')#Общая информация о пользователях\n",
    "display(users.head())\n",
    "users.info()\n",
    "users['city'].unique()"
   ]
  },
  {
   "cell_type": "markdown",
   "metadata": {},
   "source": [
    "### Вывод: \n",
    "Для общего анализа выведены по 5 строчек из каждой таблицы и общая информация.\n",
    "Видно что, практически все столбцы заполнены полностью, за исключением столбца churn_date в users. Это столбец - время, когда клиент отключился от тарифа. Это значит он ушел к конкурентам. Таких клиентов 7,6 %, это немало, причины их ухода неизвестны, воспользуемся их значениями при расчете. Также видно, что количесвто звонков, сообщений и мегабайт разное. Это логично, каждый человек по разному использует тариф. Выборка городов показывает довольно большое количесвто для всего навсего 500 человек. Какой-то непонятный столбец \"Unnamed: 0\" в табличке с интернетом, пока не понимаю что это, но думаю в общем он не мешает для анализа."
   ]
  },
  {
   "cell_type": "markdown",
   "metadata": {},
   "source": [
    "## Шаг 2. Подготовка данных"
   ]
  },
  {
   "cell_type": "markdown",
   "metadata": {},
   "source": [
    "### Проверка на дубликаты и замена пропущенных значений"
   ]
  },
  {
   "cell_type": "code",
   "execution_count": 2,
   "metadata": {},
   "outputs": [
    {
     "name": "stdout",
     "output_type": "stream",
     "text": [
      "0\n",
      "0\n",
      "0\n",
      "0\n"
     ]
    }
   ],
   "source": [
    "print(calls.duplicated().sum())\n",
    "print(internet.duplicated().sum())\n",
    "print(messages.duplicated().sum())\n",
    "print(users.duplicated().sum())# Проверка показала дубликатов нет нигде\n",
    "\n",
    "users['churn_date'] = users['churn_date'].fillna('0')# Замена пропусков на ноль\n"
   ]
  },
  {
   "cell_type": "markdown",
   "metadata": {},
   "source": [
    "### Проверка значений времени звонков и интернета равных 0"
   ]
  },
  {
   "cell_type": "code",
   "execution_count": 3,
   "metadata": {},
   "outputs": [
    {
     "name": "stdout",
     "output_type": "stream",
     "text": [
      "162994\n",
      "129798\n"
     ]
    }
   ],
   "source": [
    "print(calls.query('duration != 0')['duration'].count())# Проверка количества времени звонков со значением ноль, \n",
    "#получается 39613, это 19,55% от общего количества\n",
    "print(internet.query('mb_used != 0')['mb_used'].count())# Проверка количества интернета со значением ноль, \n",
    "#получается 19598, это 13,12% от общего количества\n",
    "\n",
    "calls = calls.query('duration != 0')# удаление значений с нулями\n",
    "calls['duration'] = np.ceil(calls['duration'])# округление в большую сторону, для дальнейшего подсчета стоимости услуг\n",
    "#display(calls.head())# проверка\n",
    "\n",
    "internet = internet.query('mb_used != 0')# удаление значений с нулями\n",
    "internet['mb_used'] = np.ceil(internet['mb_used'])# округление в большую сторону, для дальнейшего подсчета стоимости услуг\n",
    "#display(internet.head())# проверка"
   ]
  },
  {
   "cell_type": "markdown",
   "metadata": {},
   "source": [
    "### Вывод: \n",
    "В результате проверки были обнаружены нулевые значения времени разговора и пользования интернетом. Эти нули можно объяснить техническим сбоем или не отвеченным звонком, не загруженой (зависшей) страницей. В любом случае, абонент не воспользовался услугой, платить за не нужно, а стоимость она не влияет. А вот на метрики (среднее, медиана) еще как повлияет, потому 20% и 13% это очень много. Удаляем эти значения."
   ]
  },
  {
   "cell_type": "markdown",
   "metadata": {},
   "source": [
    "### Выделение столбика с месяцем"
   ]
  },
  {
   "cell_type": "code",
   "execution_count": 4,
   "metadata": {},
   "outputs": [],
   "source": [
    "calls['call_date'] = pd.to_datetime(calls['call_date'], format='%Y-%m-%d')# перевод в формат даты\n",
    "calls['mouns'] = calls['call_date'].dt.month# выделение месяца в отдельный столбец\n",
    "#display(calls.head())#Проверка\n",
    "\n",
    "internet['session_date'] = pd.to_datetime(internet['session_date'], format='%Y-%m-%d')# перевод в формат даты\n",
    "internet['mouns'] = internet['session_date'].dt.month# выделение месяца в отдельный столбец\n",
    "#display(internet.head())#Проверка\n",
    "\n",
    "messages['message_date'] = pd.to_datetime(messages['message_date'], format='%Y-%m-%d')# перевод в формат даты\n",
    "messages['mouns'] = messages['message_date'].dt.month# выделение месяца в отдельный столбец\n",
    "#display(messages.head())#Проверка"
   ]
  },
  {
   "cell_type": "markdown",
   "metadata": {},
   "source": [
    "### Расчет количества звонков, интернета и сообщений по месяцам и объединение в одну таблицу"
   ]
  },
  {
   "cell_type": "code",
   "execution_count": 5,
   "metadata": {},
   "outputs": [
    {
     "data": {
      "text/html": [
       "<div>\n",
       "<style scoped>\n",
       "    .dataframe tbody tr th:only-of-type {\n",
       "        vertical-align: middle;\n",
       "    }\n",
       "\n",
       "    .dataframe tbody tr th {\n",
       "        vertical-align: top;\n",
       "    }\n",
       "\n",
       "    .dataframe thead th {\n",
       "        text-align: right;\n",
       "    }\n",
       "</style>\n",
       "<table border=\"1\" class=\"dataframe\">\n",
       "  <thead>\n",
       "    <tr style=\"text-align: right;\">\n",
       "      <th></th>\n",
       "      <th>user_id</th>\n",
       "      <th>age</th>\n",
       "      <th>churn_date</th>\n",
       "      <th>city</th>\n",
       "      <th>first_name</th>\n",
       "      <th>last_name</th>\n",
       "      <th>reg_date</th>\n",
       "      <th>tariff</th>\n",
       "      <th>mouns</th>\n",
       "      <th>duration</th>\n",
       "      <th>id_calls</th>\n",
       "      <th>mb_used</th>\n",
       "      <th>id_internet</th>\n",
       "      <th>massages</th>\n",
       "    </tr>\n",
       "  </thead>\n",
       "  <tbody>\n",
       "    <tr>\n",
       "      <th>0</th>\n",
       "      <td>1000</td>\n",
       "      <td>52</td>\n",
       "      <td>0</td>\n",
       "      <td>Краснодар</td>\n",
       "      <td>Рафаил</td>\n",
       "      <td>Верещагин</td>\n",
       "      <td>2018-05-25</td>\n",
       "      <td>ultra</td>\n",
       "      <td>5.0</td>\n",
       "      <td>159.0</td>\n",
       "      <td>17.0</td>\n",
       "      <td>2256.0</td>\n",
       "      <td>4.0</td>\n",
       "      <td>22.0</td>\n",
       "    </tr>\n",
       "    <tr>\n",
       "      <th>1</th>\n",
       "      <td>1000</td>\n",
       "      <td>52</td>\n",
       "      <td>0</td>\n",
       "      <td>Краснодар</td>\n",
       "      <td>Рафаил</td>\n",
       "      <td>Верещагин</td>\n",
       "      <td>2018-05-25</td>\n",
       "      <td>ultra</td>\n",
       "      <td>6.0</td>\n",
       "      <td>172.0</td>\n",
       "      <td>28.0</td>\n",
       "      <td>23257.0</td>\n",
       "      <td>44.0</td>\n",
       "      <td>60.0</td>\n",
       "    </tr>\n",
       "    <tr>\n",
       "      <th>2</th>\n",
       "      <td>1000</td>\n",
       "      <td>52</td>\n",
       "      <td>0</td>\n",
       "      <td>Краснодар</td>\n",
       "      <td>Рафаил</td>\n",
       "      <td>Верещагин</td>\n",
       "      <td>2018-05-25</td>\n",
       "      <td>ultra</td>\n",
       "      <td>7.0</td>\n",
       "      <td>340.0</td>\n",
       "      <td>41.0</td>\n",
       "      <td>14016.0</td>\n",
       "      <td>28.0</td>\n",
       "      <td>75.0</td>\n",
       "    </tr>\n",
       "    <tr>\n",
       "      <th>3</th>\n",
       "      <td>1000</td>\n",
       "      <td>52</td>\n",
       "      <td>0</td>\n",
       "      <td>Краснодар</td>\n",
       "      <td>Рафаил</td>\n",
       "      <td>Верещагин</td>\n",
       "      <td>2018-05-25</td>\n",
       "      <td>ultra</td>\n",
       "      <td>8.0</td>\n",
       "      <td>408.0</td>\n",
       "      <td>42.0</td>\n",
       "      <td>14070.0</td>\n",
       "      <td>27.0</td>\n",
       "      <td>81.0</td>\n",
       "    </tr>\n",
       "    <tr>\n",
       "      <th>4</th>\n",
       "      <td>1000</td>\n",
       "      <td>52</td>\n",
       "      <td>0</td>\n",
       "      <td>Краснодар</td>\n",
       "      <td>Рафаил</td>\n",
       "      <td>Верещагин</td>\n",
       "      <td>2018-05-25</td>\n",
       "      <td>ultra</td>\n",
       "      <td>9.0</td>\n",
       "      <td>466.0</td>\n",
       "      <td>46.0</td>\n",
       "      <td>14581.0</td>\n",
       "      <td>25.0</td>\n",
       "      <td>57.0</td>\n",
       "    </tr>\n",
       "  </tbody>\n",
       "</table>\n",
       "</div>"
      ],
      "text/plain": [
       "   user_id  age churn_date       city first_name  last_name    reg_date  \\\n",
       "0     1000   52          0  Краснодар     Рафаил  Верещагин  2018-05-25   \n",
       "1     1000   52          0  Краснодар     Рафаил  Верещагин  2018-05-25   \n",
       "2     1000   52          0  Краснодар     Рафаил  Верещагин  2018-05-25   \n",
       "3     1000   52          0  Краснодар     Рафаил  Верещагин  2018-05-25   \n",
       "4     1000   52          0  Краснодар     Рафаил  Верещагин  2018-05-25   \n",
       "\n",
       "  tariff  mouns  duration  id_calls  mb_used  id_internet  massages  \n",
       "0  ultra    5.0     159.0      17.0   2256.0          4.0      22.0  \n",
       "1  ultra    6.0     172.0      28.0  23257.0         44.0      60.0  \n",
       "2  ultra    7.0     340.0      41.0  14016.0         28.0      75.0  \n",
       "3  ultra    8.0     408.0      42.0  14070.0         27.0      81.0  \n",
       "4  ultra    9.0     466.0      46.0  14581.0         25.0      57.0  "
      ]
     },
     "metadata": {},
     "output_type": "display_data"
    },
    {
     "data": {
      "text/html": [
       "<div>\n",
       "<style scoped>\n",
       "    .dataframe tbody tr th:only-of-type {\n",
       "        vertical-align: middle;\n",
       "    }\n",
       "\n",
       "    .dataframe tbody tr th {\n",
       "        vertical-align: top;\n",
       "    }\n",
       "\n",
       "    .dataframe thead th {\n",
       "        text-align: right;\n",
       "    }\n",
       "</style>\n",
       "<table border=\"1\" class=\"dataframe\">\n",
       "  <thead>\n",
       "    <tr style=\"text-align: right;\">\n",
       "      <th></th>\n",
       "      <th>user_id</th>\n",
       "      <th>age</th>\n",
       "      <th>churn_date</th>\n",
       "      <th>city</th>\n",
       "      <th>first_name</th>\n",
       "      <th>last_name</th>\n",
       "      <th>reg_date</th>\n",
       "      <th>tariff</th>\n",
       "      <th>mouns</th>\n",
       "      <th>duration</th>\n",
       "      <th>...</th>\n",
       "      <th>mb_used</th>\n",
       "      <th>id_internet</th>\n",
       "      <th>massages</th>\n",
       "      <th>messages_included</th>\n",
       "      <th>mb_per_month_included</th>\n",
       "      <th>minutes_included</th>\n",
       "      <th>rub_monthly_fee</th>\n",
       "      <th>rub_per_gb</th>\n",
       "      <th>rub_per_message</th>\n",
       "      <th>rub_per_minute</th>\n",
       "    </tr>\n",
       "  </thead>\n",
       "  <tbody>\n",
       "    <tr>\n",
       "      <th>0</th>\n",
       "      <td>1000</td>\n",
       "      <td>52</td>\n",
       "      <td>0</td>\n",
       "      <td>Краснодар</td>\n",
       "      <td>Рафаил</td>\n",
       "      <td>Верещагин</td>\n",
       "      <td>2018-05-25</td>\n",
       "      <td>ultra</td>\n",
       "      <td>5.0</td>\n",
       "      <td>159.0</td>\n",
       "      <td>...</td>\n",
       "      <td>2256.0</td>\n",
       "      <td>4.0</td>\n",
       "      <td>22.0</td>\n",
       "      <td>1000</td>\n",
       "      <td>30720</td>\n",
       "      <td>3000</td>\n",
       "      <td>1950</td>\n",
       "      <td>150</td>\n",
       "      <td>1</td>\n",
       "      <td>1</td>\n",
       "    </tr>\n",
       "    <tr>\n",
       "      <th>1</th>\n",
       "      <td>1000</td>\n",
       "      <td>52</td>\n",
       "      <td>0</td>\n",
       "      <td>Краснодар</td>\n",
       "      <td>Рафаил</td>\n",
       "      <td>Верещагин</td>\n",
       "      <td>2018-05-25</td>\n",
       "      <td>ultra</td>\n",
       "      <td>6.0</td>\n",
       "      <td>172.0</td>\n",
       "      <td>...</td>\n",
       "      <td>23257.0</td>\n",
       "      <td>44.0</td>\n",
       "      <td>60.0</td>\n",
       "      <td>1000</td>\n",
       "      <td>30720</td>\n",
       "      <td>3000</td>\n",
       "      <td>1950</td>\n",
       "      <td>150</td>\n",
       "      <td>1</td>\n",
       "      <td>1</td>\n",
       "    </tr>\n",
       "    <tr>\n",
       "      <th>2</th>\n",
       "      <td>1000</td>\n",
       "      <td>52</td>\n",
       "      <td>0</td>\n",
       "      <td>Краснодар</td>\n",
       "      <td>Рафаил</td>\n",
       "      <td>Верещагин</td>\n",
       "      <td>2018-05-25</td>\n",
       "      <td>ultra</td>\n",
       "      <td>7.0</td>\n",
       "      <td>340.0</td>\n",
       "      <td>...</td>\n",
       "      <td>14016.0</td>\n",
       "      <td>28.0</td>\n",
       "      <td>75.0</td>\n",
       "      <td>1000</td>\n",
       "      <td>30720</td>\n",
       "      <td>3000</td>\n",
       "      <td>1950</td>\n",
       "      <td>150</td>\n",
       "      <td>1</td>\n",
       "      <td>1</td>\n",
       "    </tr>\n",
       "    <tr>\n",
       "      <th>3</th>\n",
       "      <td>1000</td>\n",
       "      <td>52</td>\n",
       "      <td>0</td>\n",
       "      <td>Краснодар</td>\n",
       "      <td>Рафаил</td>\n",
       "      <td>Верещагин</td>\n",
       "      <td>2018-05-25</td>\n",
       "      <td>ultra</td>\n",
       "      <td>8.0</td>\n",
       "      <td>408.0</td>\n",
       "      <td>...</td>\n",
       "      <td>14070.0</td>\n",
       "      <td>27.0</td>\n",
       "      <td>81.0</td>\n",
       "      <td>1000</td>\n",
       "      <td>30720</td>\n",
       "      <td>3000</td>\n",
       "      <td>1950</td>\n",
       "      <td>150</td>\n",
       "      <td>1</td>\n",
       "      <td>1</td>\n",
       "    </tr>\n",
       "    <tr>\n",
       "      <th>4</th>\n",
       "      <td>1000</td>\n",
       "      <td>52</td>\n",
       "      <td>0</td>\n",
       "      <td>Краснодар</td>\n",
       "      <td>Рафаил</td>\n",
       "      <td>Верещагин</td>\n",
       "      <td>2018-05-25</td>\n",
       "      <td>ultra</td>\n",
       "      <td>9.0</td>\n",
       "      <td>466.0</td>\n",
       "      <td>...</td>\n",
       "      <td>14581.0</td>\n",
       "      <td>25.0</td>\n",
       "      <td>57.0</td>\n",
       "      <td>1000</td>\n",
       "      <td>30720</td>\n",
       "      <td>3000</td>\n",
       "      <td>1950</td>\n",
       "      <td>150</td>\n",
       "      <td>1</td>\n",
       "      <td>1</td>\n",
       "    </tr>\n",
       "  </tbody>\n",
       "</table>\n",
       "<p>5 rows × 21 columns</p>\n",
       "</div>"
      ],
      "text/plain": [
       "   user_id  age churn_date       city first_name  last_name    reg_date  \\\n",
       "0     1000   52          0  Краснодар     Рафаил  Верещагин  2018-05-25   \n",
       "1     1000   52          0  Краснодар     Рафаил  Верещагин  2018-05-25   \n",
       "2     1000   52          0  Краснодар     Рафаил  Верещагин  2018-05-25   \n",
       "3     1000   52          0  Краснодар     Рафаил  Верещагин  2018-05-25   \n",
       "4     1000   52          0  Краснодар     Рафаил  Верещагин  2018-05-25   \n",
       "\n",
       "  tariff  mouns  duration  ...  mb_used  id_internet  massages  \\\n",
       "0  ultra    5.0     159.0  ...   2256.0          4.0      22.0   \n",
       "1  ultra    6.0     172.0  ...  23257.0         44.0      60.0   \n",
       "2  ultra    7.0     340.0  ...  14016.0         28.0      75.0   \n",
       "3  ultra    8.0     408.0  ...  14070.0         27.0      81.0   \n",
       "4  ultra    9.0     466.0  ...  14581.0         25.0      57.0   \n",
       "\n",
       "   messages_included  mb_per_month_included  minutes_included  \\\n",
       "0               1000                  30720              3000   \n",
       "1               1000                  30720              3000   \n",
       "2               1000                  30720              3000   \n",
       "3               1000                  30720              3000   \n",
       "4               1000                  30720              3000   \n",
       "\n",
       "   rub_monthly_fee  rub_per_gb  rub_per_message  rub_per_minute  \n",
       "0             1950         150                1               1  \n",
       "1             1950         150                1               1  \n",
       "2             1950         150                1               1  \n",
       "3             1950         150                1               1  \n",
       "4             1950         150                1               1  \n",
       "\n",
       "[5 rows x 21 columns]"
      ]
     },
     "metadata": {},
     "output_type": "display_data"
    },
    {
     "name": "stdout",
     "output_type": "stream",
     "text": [
      "<class 'pandas.core.frame.DataFrame'>\n",
      "Int64Index: 3216 entries, 0 to 3215\n",
      "Data columns (total 21 columns):\n",
      " #   Column                 Non-Null Count  Dtype  \n",
      "---  ------                 --------------  -----  \n",
      " 0   user_id                3216 non-null   int64  \n",
      " 1   age                    3216 non-null   int64  \n",
      " 2   churn_date             3216 non-null   object \n",
      " 3   city                   3216 non-null   object \n",
      " 4   first_name             3216 non-null   object \n",
      " 5   last_name              3216 non-null   object \n",
      " 6   reg_date               3216 non-null   object \n",
      " 7   tariff                 3216 non-null   object \n",
      " 8   mouns                  3214 non-null   float64\n",
      " 9   duration               3168 non-null   float64\n",
      " 10  id_calls               3168 non-null   float64\n",
      " 11  mb_used                3201 non-null   float64\n",
      " 12  id_internet            3201 non-null   float64\n",
      " 13  massages               2717 non-null   float64\n",
      " 14  messages_included      3216 non-null   int64  \n",
      " 15  mb_per_month_included  3216 non-null   int64  \n",
      " 16  minutes_included       3216 non-null   int64  \n",
      " 17  rub_monthly_fee        3216 non-null   int64  \n",
      " 18  rub_per_gb             3216 non-null   int64  \n",
      " 19  rub_per_message        3216 non-null   int64  \n",
      " 20  rub_per_minute         3216 non-null   int64  \n",
      "dtypes: float64(6), int64(9), object(6)\n",
      "memory usage: 552.8+ KB\n"
     ]
    }
   ],
   "source": [
    "user_calls = calls.pivot_table(index=['user_id', 'mouns'], values='duration', aggfunc=['sum', 'count']).reset_index()\n",
    "user_calls.columns = ['user_id', 'mouns','duration','id_calls']\n",
    "user_calls['duration'] = user_calls['duration'].astype('int')\n",
    "#display(user_calls.head())#Проверка\n",
    "\n",
    "user_internet = internet.pivot_table(index=['user_id', 'mouns'], values='mb_used', aggfunc=['sum', 'count']).reset_index()\n",
    "user_internet.columns = ['user_id', 'mouns','mb_used','id_internet']\n",
    "#display(user_internet.head())#Проверка\n",
    "\n",
    "user_messages = messages.pivot_table(index=['user_id', 'mouns'], values='message_date', aggfunc='count').reset_index()\n",
    "user_messages.columns = ['user_id', 'mouns','massages']\n",
    "user_messages['massages'] = user_messages['massages'].astype('int')\n",
    "#display(user_messages.head())#Проверка\n",
    "\n",
    "\n",
    "df = user_calls.merge(user_internet, on=['user_id', 'mouns'], how='outer')#поочереди присоединяем одну таблицу к другой\n",
    "df1 = df.merge(user_messages, on=['user_id', 'mouns'], how='outer')\n",
    "df2 = users.merge(df1, on=['user_id'], how='outer')\n",
    "tariffs.columns = ['messages_included', 'mb_per_month_included','minutes_included', 'rub_monthly_fee', 'rub_per_gb',\n",
    "                        'rub_per_message', 'rub_per_minute', 'tariff']# переименовываем столбец для объединения\n",
    "\n",
    "svod = df2.merge(tariffs, on=['tariff'], how='outer')\n",
    "\n",
    "display(df2.head())\n",
    "display(svod.head())# проверка таблицы\n",
    "\n",
    "#svod['mouns'] = svod['mouns'].astype('int64')\n",
    "\n",
    "\n",
    "svod.info()"
   ]
  },
  {
   "cell_type": "markdown",
   "metadata": {},
   "source": [
    "### Вывод:\n",
    "Сначала выделили стобцы с месяцем, потому что расчет должен быть помесячно. Затем сделали сводные таблицы с расчетом звонков, интернета и сообщений по месяцам. Далее объединяем таблицу в одну по id и месяцам для проведения расчетов. Для проведения расчетов заменил в стобцах duration, massages, mb_used на целочисленный. Но в результате объединения таблиц, в этих столбцах появились пропуски и тип изменился на float64. Пропуски появились из-за разного количества звонков, интернета и сообщений. Кто то мог звонить и пользоватьсья интернетом, а сообщений не писать например, значит ячейка появиться, а значение нет. Поэтому корректно считаю заполнить нулями такие места, и уже оставить. Ноль - значит не звонил, не писал, интернетом не пользовался. Соответственно после заполнения нулями далее снова поменял на тип int необходимые столбцы. "
   ]
  },
  {
   "cell_type": "markdown",
   "metadata": {},
   "source": [
    "### Расчет помесячных общих расходов"
   ]
  },
  {
   "cell_type": "code",
   "execution_count": 6,
   "metadata": {},
   "outputs": [
    {
     "data": {
      "text/html": [
       "<div>\n",
       "<style scoped>\n",
       "    .dataframe tbody tr th:only-of-type {\n",
       "        vertical-align: middle;\n",
       "    }\n",
       "\n",
       "    .dataframe tbody tr th {\n",
       "        vertical-align: top;\n",
       "    }\n",
       "\n",
       "    .dataframe thead th {\n",
       "        text-align: right;\n",
       "    }\n",
       "</style>\n",
       "<table border=\"1\" class=\"dataframe\">\n",
       "  <thead>\n",
       "    <tr style=\"text-align: right;\">\n",
       "      <th></th>\n",
       "      <th>user_id</th>\n",
       "      <th>age</th>\n",
       "      <th>churn_date</th>\n",
       "      <th>city</th>\n",
       "      <th>first_name</th>\n",
       "      <th>last_name</th>\n",
       "      <th>reg_date</th>\n",
       "      <th>tariff</th>\n",
       "      <th>mouns</th>\n",
       "      <th>duration</th>\n",
       "      <th>...</th>\n",
       "      <th>id_internet</th>\n",
       "      <th>massages</th>\n",
       "      <th>messages_included</th>\n",
       "      <th>mb_per_month_included</th>\n",
       "      <th>minutes_included</th>\n",
       "      <th>rub_monthly_fee</th>\n",
       "      <th>rub_per_gb</th>\n",
       "      <th>rub_per_message</th>\n",
       "      <th>rub_per_minute</th>\n",
       "      <th>mouns_viruchka</th>\n",
       "    </tr>\n",
       "  </thead>\n",
       "  <tbody>\n",
       "    <tr>\n",
       "      <th>0</th>\n",
       "      <td>1000</td>\n",
       "      <td>52</td>\n",
       "      <td>0</td>\n",
       "      <td>Краснодар</td>\n",
       "      <td>Рафаил</td>\n",
       "      <td>Верещагин</td>\n",
       "      <td>2018-05-25</td>\n",
       "      <td>ultra</td>\n",
       "      <td>5</td>\n",
       "      <td>159</td>\n",
       "      <td>...</td>\n",
       "      <td>4.0</td>\n",
       "      <td>22</td>\n",
       "      <td>1000</td>\n",
       "      <td>30720</td>\n",
       "      <td>3000</td>\n",
       "      <td>1950</td>\n",
       "      <td>150</td>\n",
       "      <td>1</td>\n",
       "      <td>1</td>\n",
       "      <td>1950.0</td>\n",
       "    </tr>\n",
       "    <tr>\n",
       "      <th>1</th>\n",
       "      <td>1000</td>\n",
       "      <td>52</td>\n",
       "      <td>0</td>\n",
       "      <td>Краснодар</td>\n",
       "      <td>Рафаил</td>\n",
       "      <td>Верещагин</td>\n",
       "      <td>2018-05-25</td>\n",
       "      <td>ultra</td>\n",
       "      <td>6</td>\n",
       "      <td>172</td>\n",
       "      <td>...</td>\n",
       "      <td>44.0</td>\n",
       "      <td>60</td>\n",
       "      <td>1000</td>\n",
       "      <td>30720</td>\n",
       "      <td>3000</td>\n",
       "      <td>1950</td>\n",
       "      <td>150</td>\n",
       "      <td>1</td>\n",
       "      <td>1</td>\n",
       "      <td>1950.0</td>\n",
       "    </tr>\n",
       "    <tr>\n",
       "      <th>2</th>\n",
       "      <td>1000</td>\n",
       "      <td>52</td>\n",
       "      <td>0</td>\n",
       "      <td>Краснодар</td>\n",
       "      <td>Рафаил</td>\n",
       "      <td>Верещагин</td>\n",
       "      <td>2018-05-25</td>\n",
       "      <td>ultra</td>\n",
       "      <td>7</td>\n",
       "      <td>340</td>\n",
       "      <td>...</td>\n",
       "      <td>28.0</td>\n",
       "      <td>75</td>\n",
       "      <td>1000</td>\n",
       "      <td>30720</td>\n",
       "      <td>3000</td>\n",
       "      <td>1950</td>\n",
       "      <td>150</td>\n",
       "      <td>1</td>\n",
       "      <td>1</td>\n",
       "      <td>1950.0</td>\n",
       "    </tr>\n",
       "    <tr>\n",
       "      <th>3</th>\n",
       "      <td>1000</td>\n",
       "      <td>52</td>\n",
       "      <td>0</td>\n",
       "      <td>Краснодар</td>\n",
       "      <td>Рафаил</td>\n",
       "      <td>Верещагин</td>\n",
       "      <td>2018-05-25</td>\n",
       "      <td>ultra</td>\n",
       "      <td>8</td>\n",
       "      <td>408</td>\n",
       "      <td>...</td>\n",
       "      <td>27.0</td>\n",
       "      <td>81</td>\n",
       "      <td>1000</td>\n",
       "      <td>30720</td>\n",
       "      <td>3000</td>\n",
       "      <td>1950</td>\n",
       "      <td>150</td>\n",
       "      <td>1</td>\n",
       "      <td>1</td>\n",
       "      <td>1950.0</td>\n",
       "    </tr>\n",
       "    <tr>\n",
       "      <th>4</th>\n",
       "      <td>1000</td>\n",
       "      <td>52</td>\n",
       "      <td>0</td>\n",
       "      <td>Краснодар</td>\n",
       "      <td>Рафаил</td>\n",
       "      <td>Верещагин</td>\n",
       "      <td>2018-05-25</td>\n",
       "      <td>ultra</td>\n",
       "      <td>9</td>\n",
       "      <td>466</td>\n",
       "      <td>...</td>\n",
       "      <td>25.0</td>\n",
       "      <td>57</td>\n",
       "      <td>1000</td>\n",
       "      <td>30720</td>\n",
       "      <td>3000</td>\n",
       "      <td>1950</td>\n",
       "      <td>150</td>\n",
       "      <td>1</td>\n",
       "      <td>1</td>\n",
       "      <td>1950.0</td>\n",
       "    </tr>\n",
       "  </tbody>\n",
       "</table>\n",
       "<p>5 rows × 22 columns</p>\n",
       "</div>"
      ],
      "text/plain": [
       "   user_id  age churn_date       city first_name  last_name    reg_date  \\\n",
       "0     1000   52          0  Краснодар     Рафаил  Верещагин  2018-05-25   \n",
       "1     1000   52          0  Краснодар     Рафаил  Верещагин  2018-05-25   \n",
       "2     1000   52          0  Краснодар     Рафаил  Верещагин  2018-05-25   \n",
       "3     1000   52          0  Краснодар     Рафаил  Верещагин  2018-05-25   \n",
       "4     1000   52          0  Краснодар     Рафаил  Верещагин  2018-05-25   \n",
       "\n",
       "  tariff  mouns  duration  ...  id_internet  massages  messages_included  \\\n",
       "0  ultra      5       159  ...          4.0        22               1000   \n",
       "1  ultra      6       172  ...         44.0        60               1000   \n",
       "2  ultra      7       340  ...         28.0        75               1000   \n",
       "3  ultra      8       408  ...         27.0        81               1000   \n",
       "4  ultra      9       466  ...         25.0        57               1000   \n",
       "\n",
       "   mb_per_month_included  minutes_included  rub_monthly_fee  rub_per_gb  \\\n",
       "0                  30720              3000             1950         150   \n",
       "1                  30720              3000             1950         150   \n",
       "2                  30720              3000             1950         150   \n",
       "3                  30720              3000             1950         150   \n",
       "4                  30720              3000             1950         150   \n",
       "\n",
       "   rub_per_message  rub_per_minute  mouns_viruchka  \n",
       "0                1               1          1950.0  \n",
       "1                1               1          1950.0  \n",
       "2                1               1          1950.0  \n",
       "3                1               1          1950.0  \n",
       "4                1               1          1950.0  \n",
       "\n",
       "[5 rows x 22 columns]"
      ]
     },
     "metadata": {},
     "output_type": "display_data"
    }
   ],
   "source": [
    "svod['duration'] = svod['duration'].fillna('0')# Заменяем пропущенные значения на ноль и меняем тип данных\n",
    "svod['duration'] = svod['duration'].astype('int')\n",
    "svod['massages'] = svod['massages'].fillna('0')\n",
    "svod['massages'] = svod['massages'].astype('int')\n",
    "svod['mb_used'] = svod['mb_used'].fillna('0')\n",
    "svod['mb_used'] = svod['mb_used'].astype('int')\n",
    "svod['mouns'] = svod['mouns'].fillna('0')\n",
    "svod['mouns'] = svod['mouns'].astype('int')\n",
    "\n",
    "#svod.info()#Проверка\n",
    "\n",
    "def mouns_viruchka_rachcet(svod):# функция для расчета месячного дохода\n",
    "    total = 0\n",
    "    total += svod['rub_monthly_fee']\n",
    "    if (svod['duration'] - svod['minutes_included']) > 0:\n",
    "        total += (svod['duration'] - svod['minutes_included']) * svod['rub_per_minute']\n",
    "    if (svod['massages'] - svod['messages_included']) > 0:\n",
    "        total += (svod['massages'] - svod['messages_included']) * svod['rub_per_message']\n",
    "    if (svod['mb_used'] - svod['mb_per_month_included']) > 0:\n",
    "        total += np.ceil(((svod['mb_used'] - svod['mb_per_month_included']) / 1024)) * svod['rub_per_gb']\n",
    "    return total\n",
    "\n",
    "svod['mouns_viruchka'] = svod.apply(mouns_viruchka_rachcet, axis = 1)\n",
    "display(svod.head())\n"
   ]
  },
  {
   "cell_type": "markdown",
   "metadata": {},
   "source": [
    "### Вывод\n",
    "Заменил все пропуски и поменял типы данных. Сделал функцию которая считает сколько денег клиент принес в месяц. Добавил такой столбец в таблицу."
   ]
  },
  {
   "cell_type": "markdown",
   "metadata": {},
   "source": [
    "## Шаг 3. Анализ данных"
   ]
  },
  {
   "cell_type": "code",
   "execution_count": 7,
   "metadata": {},
   "outputs": [
    {
     "data": {
      "text/plain": [
       "count     947.000000\n",
       "mean      547.755016\n",
       "std       305.513385\n",
       "min         1.000000\n",
       "25%       311.000000\n",
       "50%       529.000000\n",
       "75%       758.000000\n",
       "max      1673.000000\n",
       "Name: duration, dtype: float64"
      ]
     },
     "execution_count": 7,
     "metadata": {},
     "output_type": "execute_result"
    }
   ],
   "source": [
    "svod_ultra = svod.query('tariff == \"ultra\"')#разделяю таблицу по тарифам для более детального изучения каждого тарифа\n",
    "svod_smart = svod.query('tariff == \"smart\"')\n",
    "\n",
    "svod_ultra.query('duration != 0')['duration'].describe()"
   ]
  },
  {
   "cell_type": "code",
   "execution_count": 8,
   "metadata": {},
   "outputs": [
    {
     "data": {
      "text/plain": [
       "93338.4282914109"
      ]
     },
     "execution_count": 8,
     "metadata": {},
     "output_type": "execute_result"
    }
   ],
   "source": [
    "np.var(svod_ultra.query('duration != 0')['duration'], ddof=1)# дисперсия, зная что это выборка, вношу поправку\n"
   ]
  },
  {
   "cell_type": "code",
   "execution_count": 9,
   "metadata": {},
   "outputs": [
    {
     "name": "stdout",
     "output_type": "stream",
     "text": [
      "93338.42841415825\n"
     ]
    }
   ],
   "source": [
    "print(305.513385 * 305.513385)# беру квадрат стандартного отклонения, очень большая сходмость"
   ]
  },
  {
   "cell_type": "code",
   "execution_count": 10,
   "metadata": {},
   "outputs": [
    {
     "data": {
      "text/plain": [
       "count    2221.000000\n",
       "mean      419.440342\n",
       "std       188.992403\n",
       "min         2.000000\n",
       "25%       285.000000\n",
       "50%       423.000000\n",
       "75%       546.000000\n",
       "max      1435.000000\n",
       "Name: duration, dtype: float64"
      ]
     },
     "execution_count": 10,
     "metadata": {},
     "output_type": "execute_result"
    }
   ],
   "source": [
    "svod_smart.query('duration != 0')['duration'].describe()"
   ]
  },
  {
   "cell_type": "code",
   "execution_count": 11,
   "metadata": {},
   "outputs": [
    {
     "data": {
      "text/plain": [
       "35718.128533936935"
      ]
     },
     "execution_count": 11,
     "metadata": {},
     "output_type": "execute_result"
    }
   ],
   "source": [
    "np.var(svod_smart.query('duration != 0')['duration'], ddof=1)#дисперсия, зная что это выборка, вношу поправку"
   ]
  },
  {
   "cell_type": "code",
   "execution_count": 12,
   "metadata": {},
   "outputs": [
    {
     "name": "stdout",
     "output_type": "stream",
     "text": [
      "35718.12839171441\n"
     ]
    }
   ],
   "source": [
    "print(188.992403 * 188.992403)# беру квадрат стандартного отклонения, очень большая сходмость"
   ]
  },
  {
   "cell_type": "code",
   "execution_count": 13,
   "metadata": {},
   "outputs": [
    {
     "data": {
      "text/plain": [
       "count    795.000000\n",
       "mean      61.161006\n",
       "std       45.931026\n",
       "min        1.000000\n",
       "25%       24.000000\n",
       "50%       51.000000\n",
       "75%       87.500000\n",
       "max      224.000000\n",
       "Name: massages, dtype: float64"
      ]
     },
     "execution_count": 13,
     "metadata": {},
     "output_type": "execute_result"
    }
   ],
   "source": [
    "svod_ultra.query('massages != 0')['massages'].describe()"
   ]
  },
  {
   "cell_type": "code",
   "execution_count": 14,
   "metadata": {},
   "outputs": [
    {
     "data": {
      "text/plain": [
       "2107.005523515688"
      ]
     },
     "execution_count": 14,
     "metadata": {},
     "output_type": "execute_result"
    }
   ],
   "source": [
    "np.var(svod_ultra.query('massages != 0')['massages'])#здесь убрал поправку ,чтобы сравнить, отличие уже есть"
   ]
  },
  {
   "cell_type": "code",
   "execution_count": 15,
   "metadata": {},
   "outputs": [
    {
     "name": "stdout",
     "output_type": "stream",
     "text": [
      "2109.6591494126765\n"
     ]
    }
   ],
   "source": [
    "print(45.931026 * 45.931026)# беру квадрат стандартного отклонения, очень большая сходмость(если брать поправку). \n",
    "#Поправка дает супер попадание, без нее тоже довольно близко"
   ]
  },
  {
   "cell_type": "code",
   "execution_count": 16,
   "metadata": {},
   "outputs": [
    {
     "data": {
      "text/plain": [
       "count    1922.000000\n",
       "mean       38.716441\n",
       "std        26.787949\n",
       "min         1.000000\n",
       "25%        17.000000\n",
       "50%        34.000000\n",
       "75%        55.000000\n",
       "max       143.000000\n",
       "Name: massages, dtype: float64"
      ]
     },
     "execution_count": 16,
     "metadata": {},
     "output_type": "execute_result"
    }
   ],
   "source": [
    "svod_smart.query('massages != 0')['massages'].describe()"
   ]
  },
  {
   "cell_type": "code",
   "execution_count": 17,
   "metadata": {},
   "outputs": [
    {
     "data": {
      "text/plain": [
       "717.5942011753527"
      ]
     },
     "execution_count": 17,
     "metadata": {},
     "output_type": "execute_result"
    }
   ],
   "source": [
    "np.var(svod_smart.query('massages != 0')['massages'], ddof=1)# дисперсия"
   ]
  },
  {
   "cell_type": "code",
   "execution_count": 18,
   "metadata": {},
   "outputs": [
    {
     "data": {
      "text/plain": [
       "count      974.000000\n",
       "mean     19706.979466\n",
       "std       9937.127298\n",
       "min        366.000000\n",
       "25%      12073.750000\n",
       "50%      19427.500000\n",
       "75%      26936.250000\n",
       "max      49789.000000\n",
       "Name: mb_used, dtype: float64"
      ]
     },
     "execution_count": 18,
     "metadata": {},
     "output_type": "execute_result"
    }
   ],
   "source": [
    "svod_ultra.query('mb_used != 0')['mb_used'].describe()"
   ]
  },
  {
   "cell_type": "code",
   "execution_count": 19,
   "metadata": {},
   "outputs": [
    {
     "data": {
      "text/plain": [
       "98746498.9327742"
      ]
     },
     "execution_count": 19,
     "metadata": {},
     "output_type": "execute_result"
    }
   ],
   "source": [
    "np.var(svod_ultra.query('mb_used != 0')['mb_used'], ddof=1)# дисперсия"
   ]
  },
  {
   "cell_type": "code",
   "execution_count": 20,
   "metadata": {},
   "outputs": [
    {
     "data": {
      "text/plain": [
       "count     2227.000000\n",
       "mean     16243.763359\n",
       "std       5860.041941\n",
       "min        202.000000\n",
       "25%      12677.000000\n",
       "50%      16533.000000\n",
       "75%      20068.000000\n",
       "max      38610.000000\n",
       "Name: mb_used, dtype: float64"
      ]
     },
     "execution_count": 20,
     "metadata": {},
     "output_type": "execute_result"
    }
   ],
   "source": [
    "svod_smart.query('mb_used != 0')['mb_used'].describe()"
   ]
  },
  {
   "cell_type": "code",
   "execution_count": 21,
   "metadata": {},
   "outputs": [
    {
     "data": {
      "text/plain": [
       "34340091.553589545"
      ]
     },
     "execution_count": 21,
     "metadata": {},
     "output_type": "execute_result"
    }
   ],
   "source": [
    "np.var(svod_smart.query('mb_used != 0')['mb_used'], ddof=1)# дисперсия"
   ]
  },
  {
   "cell_type": "code",
   "execution_count": 22,
   "metadata": {},
   "outputs": [
    {
     "data": {
      "text/plain": [
       "count     986.000000\n",
       "mean     2070.943205\n",
       "std       378.629673\n",
       "min      1950.000000\n",
       "25%      1950.000000\n",
       "50%      1950.000000\n",
       "75%      1950.000000\n",
       "max      4800.000000\n",
       "Name: mouns_viruchka, dtype: float64"
      ]
     },
     "execution_count": 22,
     "metadata": {},
     "output_type": "execute_result"
    }
   ],
   "source": [
    "svod_ultra['mouns_viruchka'].describe()"
   ]
  },
  {
   "cell_type": "code",
   "execution_count": 23,
   "metadata": {},
   "outputs": [
    {
     "data": {
      "text/plain": [
       "143360.42925834973"
      ]
     },
     "execution_count": 23,
     "metadata": {},
     "output_type": "execute_result"
    }
   ],
   "source": [
    "np.var(svod_ultra['mouns_viruchka'], ddof=1)# дисперсия"
   ]
  },
  {
   "cell_type": "code",
   "execution_count": 24,
   "metadata": {},
   "outputs": [
    {
     "data": {
      "text/plain": [
       "count    2230.000000\n",
       "mean     1294.305381\n",
       "std       820.900496\n",
       "min       550.000000\n",
       "25%       550.000000\n",
       "50%      1037.000000\n",
       "75%      1750.000000\n",
       "max      6770.000000\n",
       "Name: mouns_viruchka, dtype: float64"
      ]
     },
     "execution_count": 24,
     "metadata": {},
     "output_type": "execute_result"
    }
   ],
   "source": [
    "svod_smart['mouns_viruchka'].describe()"
   ]
  },
  {
   "cell_type": "code",
   "execution_count": 25,
   "metadata": {},
   "outputs": [
    {
     "data": {
      "text/plain": [
       "673877.6236139103"
      ]
     },
     "execution_count": 25,
     "metadata": {},
     "output_type": "execute_result"
    }
   ],
   "source": [
    "np.var(svod_smart['mouns_viruchka'], ddof=1)# дисперсия"
   ]
  },
  {
   "cell_type": "code",
   "execution_count": 26,
   "metadata": {},
   "outputs": [
    {
     "data": {
      "text/html": [
       "<style  type=\"text/css\" >\n",
       "</style><table id=\"T_a19cf6e4_f092_11eb_8206_e8b1fc6fddd9\" ><thead>    <tr>        <th class=\"blank\" ></th>        <th class=\"index_name level0\" >tariff</th>        <th class=\"col_heading level0 col0\" >smart</th>        <th class=\"col_heading level0 col1\" >ultra</th>    </tr></thead><tbody>\n",
       "                <tr>\n",
       "                        <th id=\"T_a19cf6e4_f092_11eb_8206_e8b1fc6fddd9level0_row0\" class=\"row_heading level0 row0\" rowspan=3>mean</th>\n",
       "                        <th id=\"T_a19cf6e4_f092_11eb_8206_e8b1fc6fddd9level1_row0\" class=\"row_heading level1 row0\" >duration</th>\n",
       "                        <td id=\"T_a19cf6e4_f092_11eb_8206_e8b1fc6fddd9row0_col0\" class=\"data row0 col0\" >417.75</td>\n",
       "                        <td id=\"T_a19cf6e4_f092_11eb_8206_e8b1fc6fddd9row0_col1\" class=\"data row0 col1\" >526.09</td>\n",
       "            </tr>\n",
       "            <tr>\n",
       "                                <th id=\"T_a19cf6e4_f092_11eb_8206_e8b1fc6fddd9level1_row1\" class=\"row_heading level1 row1\" >massages</th>\n",
       "                        <td id=\"T_a19cf6e4_f092_11eb_8206_e8b1fc6fddd9row1_col0\" class=\"data row1 col0\" >33.37</td>\n",
       "                        <td id=\"T_a19cf6e4_f092_11eb_8206_e8b1fc6fddd9row1_col1\" class=\"data row1 col1\" >49.31</td>\n",
       "            </tr>\n",
       "            <tr>\n",
       "                                <th id=\"T_a19cf6e4_f092_11eb_8206_e8b1fc6fddd9level1_row2\" class=\"row_heading level1 row2\" >mb_used</th>\n",
       "                        <td id=\"T_a19cf6e4_f092_11eb_8206_e8b1fc6fddd9row2_col0\" class=\"data row2 col0\" >16221.91</td>\n",
       "                        <td id=\"T_a19cf6e4_f092_11eb_8206_e8b1fc6fddd9row2_col1\" class=\"data row2 col1\" >19467.14</td>\n",
       "            </tr>\n",
       "            <tr>\n",
       "                        <th id=\"T_a19cf6e4_f092_11eb_8206_e8b1fc6fddd9level0_row3\" class=\"row_heading level0 row3\" rowspan=3>std</th>\n",
       "                        <th id=\"T_a19cf6e4_f092_11eb_8206_e8b1fc6fddd9level1_row3\" class=\"row_heading level1 row3\" >duration</th>\n",
       "                        <td id=\"T_a19cf6e4_f092_11eb_8206_e8b1fc6fddd9row3_col0\" class=\"data row3 col0\" >190.48</td>\n",
       "                        <td id=\"T_a19cf6e4_f092_11eb_8206_e8b1fc6fddd9row3_col1\" class=\"data row3 col1\" >317.89</td>\n",
       "            </tr>\n",
       "            <tr>\n",
       "                                <th id=\"T_a19cf6e4_f092_11eb_8206_e8b1fc6fddd9level1_row4\" class=\"row_heading level1 row4\" >massages</th>\n",
       "                        <td id=\"T_a19cf6e4_f092_11eb_8206_e8b1fc6fddd9row4_col0\" class=\"data row4 col0\" >28.23</td>\n",
       "                        <td id=\"T_a19cf6e4_f092_11eb_8206_e8b1fc6fddd9row4_col1\" class=\"data row4 col1\" >47.81</td>\n",
       "            </tr>\n",
       "            <tr>\n",
       "                                <th id=\"T_a19cf6e4_f092_11eb_8206_e8b1fc6fddd9level1_row5\" class=\"row_heading level1 row5\" >mb_used</th>\n",
       "                        <td id=\"T_a19cf6e4_f092_11eb_8206_e8b1fc6fddd9row5_col0\" class=\"data row5 col0\" >5886.30</td>\n",
       "                        <td id=\"T_a19cf6e4_f092_11eb_8206_e8b1fc6fddd9row5_col1\" class=\"data row5 col1\" >10110.26</td>\n",
       "            </tr>\n",
       "            <tr>\n",
       "                        <th id=\"T_a19cf6e4_f092_11eb_8206_e8b1fc6fddd9level0_row6\" class=\"row_heading level0 row6\" rowspan=3>var</th>\n",
       "                        <th id=\"T_a19cf6e4_f092_11eb_8206_e8b1fc6fddd9level1_row6\" class=\"row_heading level1 row6\" >duration</th>\n",
       "                        <td id=\"T_a19cf6e4_f092_11eb_8206_e8b1fc6fddd9row6_col0\" class=\"data row6 col0\" >36281.39</td>\n",
       "                        <td id=\"T_a19cf6e4_f092_11eb_8206_e8b1fc6fddd9row6_col1\" class=\"data row6 col1\" >101052.49</td>\n",
       "            </tr>\n",
       "            <tr>\n",
       "                                <th id=\"T_a19cf6e4_f092_11eb_8206_e8b1fc6fddd9level1_row7\" class=\"row_heading level1 row7\" >massages</th>\n",
       "                        <td id=\"T_a19cf6e4_f092_11eb_8206_e8b1fc6fddd9row7_col0\" class=\"data row7 col0\" >796.96</td>\n",
       "                        <td id=\"T_a19cf6e4_f092_11eb_8206_e8b1fc6fddd9row7_col1\" class=\"data row7 col1\" >2285.42</td>\n",
       "            </tr>\n",
       "            <tr>\n",
       "                                <th id=\"T_a19cf6e4_f092_11eb_8206_e8b1fc6fddd9level1_row8\" class=\"row_heading level1 row8\" >mb_used</th>\n",
       "                        <td id=\"T_a19cf6e4_f092_11eb_8206_e8b1fc6fddd9row8_col0\" class=\"data row8 col0\" >34648523.30</td>\n",
       "                        <td id=\"T_a19cf6e4_f092_11eb_8206_e8b1fc6fddd9row8_col1\" class=\"data row8 col1\" >102217264.28</td>\n",
       "            </tr>\n",
       "    </tbody></table>"
      ],
      "text/plain": [
       "<pandas.io.formats.style.Styler at 0x15d8c0f3d00>"
      ]
     },
     "execution_count": 26,
     "metadata": {},
     "output_type": "execute_result"
    }
   ],
   "source": [
    "svod.pivot_table(index='tariff',  \n",
    "                 values=['duration', 'mb_used', 'massages'], \n",
    "                 aggfunc=['mean', 'std', 'var']).T.style.format('{:.2f}')# Расчет тех же показателей, только через сводные таблицы"
   ]
  },
  {
   "cell_type": "code",
   "execution_count": 27,
   "metadata": {},
   "outputs": [
    {
     "data": {
      "image/png": "[encoded data removed]",
      "text/plain": [
       "<Figure size 432x288 with 1 Axes>"
      ]
     },
     "metadata": {
      "needs_background": "light"
     },
     "output_type": "display_data"
    },
    {
     "data": {
      "image/png": "[encoded data removed]",
      "text/plain": [
       "<Figure size 432x288 with 1 Axes>"
      ]
     },
     "metadata": {
      "needs_background": "light"
     },
     "output_type": "display_data"
    },
    {
     "data": {
      "image/png": "[encoded data removed]",
      "text/plain": [
       "<Figure size 432x288 with 1 Axes>"
      ]
     },
     "metadata": {
      "needs_background": "light"
     },
     "output_type": "display_data"
    },
    {
     "data": {
      "text/plain": [
       "Text(0, 0.5, 'Частота')"
      ]
     },
     "execution_count": 27,
     "metadata": {},
     "output_type": "execute_result"
    },
    {
     "data": {
      "image/png": "[encoded data removed]",
      "text/plain": [
       "<Figure size 432x288 with 1 Axes>"
      ]
     },
     "metadata": {
      "needs_background": "light"
     },
     "output_type": "display_data"
    }
   ],
   "source": [
    "cols=['duration', 'massages', 'mb_used']# цикл для постройки графиков, нули отброшены путем регулировки шкалы\n",
    "for col in cols:\n",
    "    Q1=svod_ultra[col].quantile(0.01)\n",
    "    Q3=svod_ultra[col].quantile(0.99)\n",
    "    data_temp = svod_ultra.loc[svod_ultra[col]<Q3, col]\n",
    "    data_temp = svod_ultra.loc[svod_ultra[col]>Q1, col]\n",
    "    data_temp.hist(bins=100)\n",
    "    plt.title('Распределение данных по столбцу ' + col)\n",
    "    plt.xlabel('Значение')\n",
    "    plt.ylabel('Частота')\n",
    "    plt.show()\n",
    "    \n",
    "svod_ultra['mouns_viruchka'].hist(bins = 40)# гистограмма отдельно сделана, иначе отбрасываются минимальные значения\n",
    "#, а это как раз значение тарифа\n",
    "plt.title('Распределение данных по столбцу mouns_viruchka')\n",
    "plt.xlabel('Значение')\n",
    "plt.ylabel('Частота')"
   ]
  },
  {
   "cell_type": "code",
   "execution_count": 28,
   "metadata": {},
   "outputs": [
    {
     "data": {
      "image/png": "[encoded data removed]",
      "text/plain": [
       "<Figure size 432x288 with 1 Axes>"
      ]
     },
     "metadata": {
      "needs_background": "light"
     },
     "output_type": "display_data"
    },
    {
     "data": {
      "image/png": "[encoded data removed]",
      "text/plain": [
       "<Figure size 432x288 with 1 Axes>"
      ]
     },
     "metadata": {
      "needs_background": "light"
     },
     "output_type": "display_data"
    },
    {
     "data": {
      "image/png": "[encoded data removed]",
      "text/plain": [
       "<Figure size 432x288 with 1 Axes>"
      ]
     },
     "metadata": {
      "needs_background": "light"
     },
     "output_type": "display_data"
    },
    {
     "data": {
      "text/plain": [
       "Text(0, 0.5, 'Частота')"
      ]
     },
     "execution_count": 28,
     "metadata": {},
     "output_type": "execute_result"
    },
    {
     "data": {
      "image/png": "[encoded data removed]",
      "text/plain": [
       "<Figure size 432x288 with 1 Axes>"
      ]
     },
     "metadata": {
      "needs_background": "light"
     },
     "output_type": "display_data"
    }
   ],
   "source": [
    "cols=['duration', 'massages', 'mb_used']\n",
    "for col in cols:\n",
    "    Q1=svod_smart[col].quantile(0.01)\n",
    "    Q3=svod_smart[col].quantile(0.99)\n",
    "    data_temp = svod_smart.loc[svod_smart[col]<Q3, col]\n",
    "    data_temp = svod_smart.loc[svod_smart[col]>Q1, col]\n",
    "    data_temp.hist(bins=100)\n",
    "    plt.title('Распределение данных по столбцу ' + col)\n",
    "    plt.xlabel('Значение')\n",
    "    plt.ylabel('Частота')\n",
    "    plt.show()\n",
    "    \n",
    "svod_smart['mouns_viruchka'].hist(bins = 40)# гистограмма отдельно сделана, иначе отбрасываются минимальные значения\n",
    "#, а это как раз значение тарифа\n",
    "plt.title('Распределение данных по столбцу mouns_viruchka')\n",
    "plt.xlabel('Значение')\n",
    "plt.ylabel('Частота')"
   ]
  },
  {
   "cell_type": "markdown",
   "metadata": {},
   "source": [
    "### Вывод:\n",
    "Если не вдаваться в кучу конкретных значений и точных сравнений, то можно сделать удивительный вывод на мой взгляд. В общем если смотреть медианы и средние, они относительно схожи между собой, разброс есть конечно но не критичный, стандартное отклонение показывает тоже что все люди по разному пользуются услугами, что логично. Клиенты тарифа ультра используют больше минут, сообщений и интернета, что тоже логично. Но вот что меня поразило, это то что ненамного больше и если брать в среднем, то намного меньше чем позволяют им лимиты этого тарифа ультра. Так же очень важно отметить, что средние и медиантные значения клентов ультра немного выше лимитов тарифа смарт (кроме интернета), интернет выше, но тоже я бы не сказал что намного. Без расчетов видно, что даже если не укладываться в тариф смарт, и по прайсу переплачивать, для большинства клиентов ультра будет это выгоднее.\n",
    "Получается что очень много людей тарифа ультра переплачивают и не следят за своим тарифом, также и на тарифе смарт есть люди которые платят более 1950 рублей и тоже не спешат менять тариф.\n",
    "Большинство людей укладываются в лимиты своего тарифа.\n",
    "Также можно сказать что самая востребованная услуга - интернет, а вот сообщения уходят в прошлый век.\n",
    "Тут можно еще долго изучать, сколько людей переплачивают и так далее, но это наверное не входит в задачу.\n",
    "Гистограммы  по столбцам 'duration', 'mb_used' в обоих тарифах несмотря на \"колючесть\" имеют четко нормальное распределение. Гистограмма столбца 'massages' можно с натяжкой сказать нормального распределение со смещением вправо. Вообще сообщения настолько умирающая функция на смартфоне, что даже незнаю должна ли она быть строго нормального распределения. Гистограмма по столбцу mouns_viruchka показывает, что в основном люди платят абонентскую плату, поэтому невозможно понять нормального типа или нет. Одно из условий сравнения гипотез гласит, что должно быть нормальное распределение, принимаем его таким, так как этот столбец получен на основе стобцов с нормальным распределением. "
   ]
  },
  {
   "cell_type": "markdown",
   "metadata": {},
   "source": [
    "## Шаг 4.  Гипотезы"
   ]
  },
  {
   "cell_type": "markdown",
   "metadata": {},
   "source": [
    "### Формулирование первой гипотезы\n",
    "Н0 - средняя выручка пользователей тарифов «Ультра» и «Смарт» равны/\n",
    "Н1 -средняя выручка пользователей тарифов «Ультра» и «Смарт» различается. Нулевая гипотеза должна исходить из равенства. Я действую в рамках сравнения двух генеральных совокупностей, то есть две совокупности для тарифов смарт и ультра, их выручка описывается в соответствующем столбце, его и сравниваем"
   ]
  },
  {
   "cell_type": "code",
   "execution_count": 29,
   "metadata": {},
   "outputs": [
    {
     "name": "stdout",
     "output_type": "stream",
     "text": [
      "p-значение: 1.2414049931248708e-246\n",
      "Отвергаем нулевую гипотезу\n"
     ]
    }
   ],
   "source": [
    "alpha = .05# Выбрал типовой уровень (пробовал и 0,01 результат тот же) думаю сложность была бы если бы с одним \n",
    "#показателем проходила, а с другим нет, а так все одинаково\n",
    "\n",
    "results = st.ttest_ind(svod_ultra['mouns_viruchka'], svod_smart['mouns_viruchka'], equal_var = False)# дисперсия \n",
    "#для столбцов посчитана выше, она сильно отличается, поэтому False\n",
    "\n",
    "print('p-значение:', results.pvalue)# \n",
    "\n",
    "if results.pvalue < alpha:# :\n",
    "    print(\"Отвергаем нулевую гипотезу\")\n",
    "else:\n",
    "    print(\"Не получилось отвергнуть нулевую гипотезу\")"
   ]
  },
  {
   "cell_type": "markdown",
   "metadata": {},
   "source": [
    "### Вывод: \n",
    "Нулевая гипотеза не подтвердилась, что и логично, показатели отличаются"
   ]
  },
  {
   "cell_type": "markdown",
   "metadata": {},
   "source": [
    "### Формулирование воторой гипотезы\n",
    "Н0 - средняя выручка пользователей из Москвы и регионов равны/\n",
    "Н1 -средняя выручка пользователей Москвы и регионов различается. Нулевая гипотеза должна исходить из равенства. Я действую в рамках сравнения двух генеральных совокупностей, необходимо получить подходящие столбцы"
   ]
  },
  {
   "cell_type": "code",
   "execution_count": 30,
   "metadata": {},
   "outputs": [
    {
     "data": {
      "text/plain": [
       "566183.0292184264"
      ]
     },
     "execution_count": 30,
     "metadata": {},
     "output_type": "execute_result"
    }
   ],
   "source": [
    "svod_moscva = svod.query('city == \"Москва\"')# таблица для проверки гипотезы с Москвой\n",
    "svod_region = svod.query('city != \"Москва\"')# таблица для проверки гипотезы с регионами\n",
    "np.var(svod_moscva['mouns_viruchka'], ddof=1)# дисперсия"
   ]
  },
  {
   "cell_type": "code",
   "execution_count": 31,
   "metadata": {},
   "outputs": [
    {
     "data": {
      "text/plain": [
       "656697.9582266718"
      ]
     },
     "execution_count": 31,
     "metadata": {},
     "output_type": "execute_result"
    }
   ],
   "source": [
    "np.var(svod_region['mouns_viruchka'], ddof=1)# дисперсия, разница порядка 13% между дисперсиями, значит тоже False"
   ]
  },
  {
   "cell_type": "code",
   "execution_count": 32,
   "metadata": {},
   "outputs": [
    {
     "name": "stdout",
     "output_type": "stream",
     "text": [
      "p-значение: 0.5086199993481282\n",
      "Не получилось отвергнуть нулевую гипотезу\n"
     ]
    }
   ],
   "source": [
    "alpha = .05# Выбрал типовой уровень (пробовал и 0,01 результат тот же) думаю сложность была бы если бы с одним \n",
    "#показателем проходила, а с другим нет, а так все одинаково\n",
    "\n",
    "results = st.ttest_ind(svod_moscva['mouns_viruchka'], svod_region['mouns_viruchka'], equal_var = False)# \n",
    "\n",
    "print('p-значение:', results.pvalue)# \n",
    "\n",
    "if results.pvalue < alpha:# :\n",
    "    print(\"Отвергаем нулевую гипотезу\")\n",
    "else:\n",
    "    print(\"Не получилось отвергнуть нулевую гипотезу\")"
   ]
  },
  {
   "cell_type": "markdown",
   "metadata": {},
   "source": [
    "### Вывод:\n",
    "Нулевая гипотеза подтверждена ,значит траты в Москве и регионах одинаковые. Это противоречит жизненому опыту, хотя бы \n",
    "потому, что тарифы для москвы и регионов разные, здесь это не учтено. Но доверимся исходным данным и расчету. "
   ]
  },
  {
   "cell_type": "markdown",
   "metadata": {},
   "source": [
    "## Шаг 5. Общий вывод\n"
   ]
  },
  {
   "cell_type": "markdown",
   "metadata": {},
   "source": [
    "Была проведена подготовка данных, удалены мешающие значения, посчитанны месячные расходы, объеденены таблицы, заполнены пропущенные значения. Был проведен расчет ежемесячных расходов абонентов с использованием функции. Анализ гистограмм и метрик показал, что имеется нормальное распределение. по результатам я делаю вывод, что оператору необходимы оба тарифа, несмотря на то, что можно сказать что один тариф в среднем приносит больше выручки, а другой тариф например  имеет больше абонентов. Я думаю что самая важная выгода оператора, это то что он как бы разрывает клиентов между двумя тарифами, то есть в обоих тарифах есть люди, которым было бы более выгодно перейти на другой, но они не переходят(слишком заняты, считают этот вопрос незначительным) и из-за этого теряют деньги. С каждого по рублю, получится большая сумма. Думаю выгода оператора на первом месте, поэтому наличие именно двух тарифов дает такую возможность. А вообще сейчас другие тарифы, когда сам себе выбираешь опции, это разрушит такую систему (хотя там наверное свои хитрости). Далее были проверены две системы гипотез, которые показали, что средние выручки тарифов не равны и что средние выручки в Москве и в регинах равны. "
   ]
  },
  {
   "cell_type": "code",
   "execution_count": null,
   "metadata": {},
   "outputs": [],
   "source": []
  }
 ],
 "metadata": {
  "kernelspec": {
   "display_name": "Python 3",
   "language": "python",
   "name": "python3"
  },
  "language_info": {
   "codemirror_mode": {
    "name": "ipython",
    "version": 3
   },
   "file_extension": ".py",
   "mimetype": "text/x-python",
   "name": "python",
   "nbconvert_exporter": "python",
   "pygments_lexer": "ipython3",
   "version": "3.8.5"
  },
  "toc": {
   "base_numbering": 1,
   "nav_menu": {},
   "number_sections": false,
   "sideBar": true,
   "skip_h1_title": false,
   "title_cell": "Содержание",
   "title_sidebar": "Contents",
   "toc_cell": true,
   "toc_position": {
    "height": "calc(100% - 180px)",
    "left": "10px",
    "top": "150px",
    "width": "273.267px"
   },
   "toc_section_display": true,
   "toc_window_display": false
  }
 },
 "nbformat": 4,
 "nbformat_minor": 2
}
